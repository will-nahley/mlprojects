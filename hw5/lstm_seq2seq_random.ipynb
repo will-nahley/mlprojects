{
 "cells": [
  {
   "cell_type": "markdown",
   "metadata": {},
   "source": [
    "## Sequence-to-Sequence LSTM: Predicting the Second Sentence (Random Embeddings)"
   ]
  },
  {
   "cell_type": "markdown",
   "metadata": {},
   "source": [
    "The LSTM model implemented in this repo draws from the [Sequence to Sequence Learning with Neural Networks (2014)](https://arxiv.org/pdf/1409.3215) paper from 2014 written by Google researchers Ilya Sutskever, Oriol Vinyals, and Quoc V. Le. The original paper uses an encoder/decoder LSTM model to convert English to French. Ben Trevett, an NLP engineer, implemented a similar but simplified seq-2-seq model based on the Google paper. There are many code segments that I'm using from Ben's implementation that can be found in his GitHub repo [here](https://github.com/bentrevett/pytorch-seq2seq).\n",
    "\n",
    "The main difference between my code and Ben's code is that I'll be implementing a version of `nn.LSTM` myself, rather than using pytorch's pre-built implementation. Some additional differences in my implementation:\n",
    "\n",
    "- Source vocabulary and target vocabulary are identical (as nothing is being translated)\n",
    "- Doing all dataset creation/preprocessing myself\n",
    "- Running everything on CPU vs. GPU\n",
    "\n",
    "I also found a handful of other articles/videos really useful:\n",
    "\n",
    "- [PyTorch LSTM documentation](\"https://pytorch.org/docs/stable/generated/torch.nn.LSTM.html\"): This was useful in understanding what my LSTMCell class needed to have in order to function with my Encoder, Decoder, and S2S classes as well as working with PyTorch's autodifferentiation, SGD, and cross entropy loss functions.\n",
    "\n",
    "- [StatQuest YouTube Channel](\"https://www.youtube.com/watch?v=L8HKweZIOmg&t=24s&ab_channel=StatQuestwithJoshStarmer\"): StatQuest YouTube channel has a bunch of videos on sequence to sequence problems, which helped with the intuitive understanding. He also has videos that implement seq-2-seq using PyTorch Lightning. He follow's Ben's repository as well.\n",
    "\n",
    "- [Mustafa Murat ARAT Blog](\"https://mmuratarat.github.io/2019-01-19/dimensions-of-lstm\"): This article was helpful in understanding the dimensionality of weights/biases\n"
   ]
  },
  {
   "cell_type": "markdown",
   "metadata": {},
   "source": [
    "#### Imports:"
   ]
  },
  {
   "cell_type": "code",
   "execution_count": null,
   "metadata": {},
   "outputs": [
    {
     "name": "stderr",
     "output_type": "stream",
     "text": [
      "/home/will/miniconda3/envs/pycourse/lib/python3.8/site-packages/tqdm/auto.py:21: TqdmWarning: IProgress not found. Please update jupyter and ipywidgets. See https://ipywidgets.readthedocs.io/en/stable/user_install.html\n",
      "  from .autonotebook import tqdm as notebook_tqdm\n",
      "/home/will/miniconda3/envs/pycourse/lib/python3.8/site-packages/transformers/utils/generic.py:441: UserWarning: torch.utils._pytree._register_pytree_node is deprecated. Please use torch.utils._pytree.register_pytree_node instead.\n",
      "  _torch_pytree._register_pytree_node(\n",
      "/home/will/miniconda3/envs/pycourse/lib/python3.8/site-packages/transformers/utils/generic.py:309: UserWarning: torch.utils._pytree._register_pytree_node is deprecated. Please use torch.utils._pytree.register_pytree_node instead.\n",
      "  _torch_pytree._register_pytree_node(\n"
     ]
    }
   ],
   "source": [
    "import torch\n",
    "import torch.nn as nn\n",
    "import random\n",
    "import numpy as np\n",
    "import torch.optim as optim\n",
    "import tqdm\n",
    "import evaluate\n",
    "\n",
    "EMBED_SIZE = 200"
   ]
  },
  {
   "cell_type": "markdown",
   "metadata": {},
   "source": [
    "#### Set all random seeds (for testing purposes, will remove):"
   ]
  },
  {
   "cell_type": "code",
   "execution_count": null,
   "metadata": {},
   "outputs": [
    {
     "data": {
      "text/plain": [
       "<torch._C.Generator at 0x7f63e683ff50>"
      ]
     },
     "execution_count": 2,
     "metadata": {},
     "output_type": "execute_result"
    }
   ],
   "source": [
    "#seed = 0\n",
    "#random.seed(seed)\n",
    "#np.random.seed(seed)\n",
    "#torch.manual_seed(seed)"
   ]
  },
  {
   "cell_type": "markdown",
   "metadata": {},
   "source": [
    "#### Pre-process the Training Data"
   ]
  },
  {
   "cell_type": "markdown",
   "metadata": {},
   "source": [
    "training_firsts (and seconds) will be a lists of length 6036 each. Each element of these lists is a sentence vector, where each element corresponds to the words in the sentence. both `<s>` and `</s>` are included in each sentence vector. "
   ]
  },
  {
   "cell_type": "code",
   "execution_count": null,
   "metadata": {},
   "outputs": [],
   "source": [
    "# TRAINING\n",
    "training_size = 6036\n",
    "training_firsts = []\n",
    "training_secs = []\n",
    "with open(\"bobsue-data/bobsue.seq2seq.train.tsv\") as trainfile:\n",
    "    for line in trainfile:\n",
    "        separated = line.split()\n",
    "        for i in range(len(separated)):\n",
    "            if separated[i] == \"</s>\":\n",
    "                sent1 = separated[:i + 1]\n",
    "                sent2 = separated[i + 1:]\n",
    "                break\n",
    "        training_firsts.append(sent1)\n",
    "        training_secs.append(sent2)\n"
   ]
  },
  {
   "cell_type": "markdown",
   "metadata": {},
   "source": [
    "Now, we repeat for validation and testing sets:"
   ]
  },
  {
   "cell_type": "code",
   "execution_count": null,
   "metadata": {},
   "outputs": [],
   "source": [
    "# VALIDATION\n",
    "validation_size = 750\n",
    "valid_firsts = []\n",
    "valid_secs = []\n",
    "with open(\"bobsue-data/bobsue.seq2seq.dev.tsv\") as valfile:\n",
    "    for line in valfile:\n",
    "        separated = line.split()\n",
    "        for i in range(len(separated)):\n",
    "            if separated[i] == \"</s>\":\n",
    "                sent1 = separated[:i + 1]\n",
    "                sent2 = separated[i + 1:]\n",
    "                break\n",
    "        valid_firsts.append(sent1)\n",
    "        valid_secs.append(sent2)\n",
    "\n",
    "# TESTING\n",
    "testing_size = 750\n",
    "test_firsts = []\n",
    "test_secs = []\n",
    "with open(\"bobsue-data/bobsue.seq2seq.test.tsv\") as testfile:\n",
    "    for line in testfile:\n",
    "        separated = line.split()\n",
    "        for i in range(len(separated)):\n",
    "            if separated[i] == \"</s>\":\n",
    "                sent1 = separated[:i + 1]\n",
    "                sent2 = separated[i + 1:]\n",
    "                break\n",
    "        test_firsts.append(sent1)\n",
    "        test_secs.append(sent2)"
   ]
  },
  {
   "cell_type": "markdown",
   "metadata": {},
   "source": [
    "\n",
    "#### Generating Embeddings: Random Initialization\n",
    "\n",
    "Instead of using GloVe's pre-trained embeddings, we'll be randomly initializing our embeddings of dimension `EMBED_SIZE`:"
   ]
  },
  {
   "cell_type": "markdown",
   "metadata": {},
   "source": [
    "First, we'll generate our target vocabulary from our `bobsue.voc.txt` file"
   ]
  },
  {
   "cell_type": "code",
   "execution_count": null,
   "metadata": {},
   "outputs": [],
   "source": [
    "#Pre-process target vocabulary\n",
    "target_voc = []\n",
    "with open('bobsue-data/bobsue.voc.txt') as vocfile:\n",
    "    for line in vocfile:\n",
    "        line = line.split()\n",
    "        target_voc.append(line[0])\n",
    "target_voc = np.array(target_voc)"
   ]
  },
  {
   "cell_type": "markdown",
   "metadata": {},
   "source": [
    "Now, we assign a normally distributed random vector of dimension EMBED_SIZE. `target_voc` is a `numpy` array where each element is a word that appears in our training/testing data."
   ]
  },
  {
   "cell_type": "code",
   "execution_count": null,
   "metadata": {},
   "outputs": [],
   "source": [
    "tgt_vocab_len = len(target_voc)\n",
    "target_embeddings = {}\n",
    "word_to_index = {}\n",
    "for i in range(tgt_vocab_len):\n",
    "    cur_word = target_voc[i]\n",
    "    target_embeddings[cur_word] = np.random.normal(scale=0.6, size=(EMBED_SIZE, ))\n",
    "    word_to_index[cur_word] = i"
   ]
  },
  {
   "cell_type": "markdown",
   "metadata": {},
   "source": [
    "Create a dictionary `target_to_index` from a target word to its corresponding index (does the inverse of calling `target_voc[i]`). Then, we'll define `tokenized_to_indices` to convert a tokenized sentence into a list of integers corresponding to the index in our vocabulary."
   ]
  },
  {
   "cell_type": "code",
   "execution_count": null,
   "metadata": {},
   "outputs": [],
   "source": [
    "target_to_index = {}\n",
    "index_to_target = {}\n",
    "index_to_embedding = []\n",
    "for i, word in enumerate(target_voc):\n",
    "    target_to_index[word] = i\n",
    "    index_to_target[i] = word\n",
    "\n",
    "for i in range(len(target_voc)):\n",
    "    target = index_to_target[i]\n",
    "    embedding = target_embeddings[target]\n",
    "    index_to_embedding.append(embedding)\n",
    "\n",
    "index_to_embedding = np.array(index_to_embedding)\n",
    "index_to_embedding = torch.from_numpy(index_to_embedding).float()\n"
   ]
  },
  {
   "cell_type": "code",
   "execution_count": null,
   "metadata": {},
   "outputs": [],
   "source": [
    "def tokenized_to_indices(tokens):\n",
    "    indices = []\n",
    "    for i in range(len(tokens)):\n",
    "        indices.append(target_to_index[tokens[i]])\n",
    "    return indices"
   ]
  },
  {
   "cell_type": "markdown",
   "metadata": {},
   "source": [
    "We need to convert all of our training sentences into tensors of numerical embeddings. First we'll write a function that takes a tokenized sentence and outputs the corresponding tensor."
   ]
  },
  {
   "cell_type": "code",
   "execution_count": null,
   "metadata": {},
   "outputs": [],
   "source": [
    "def sent_to_embed(tokenized_seq):\n",
    "    \"\"\"\n",
    "    Given a tokenized sentence (where tokenized seq is a vector of tokens for a given sentence),\n",
    "    returns the a vector where each element corresponds to the embedding of that word\n",
    "    \"\"\"\n",
    "    embeddings = []\n",
    "    for token in tokenized_seq:\n",
    "        cur_embedding = target_embeddings[token]\n",
    "        embeddings.append(cur_embedding)\n",
    "    embeddings = np.array(embeddings)\n",
    "    embeddings = torch.from_numpy(embeddings).float()\n",
    "    return embeddings\n"
   ]
  },
  {
   "cell_type": "markdown",
   "metadata": {},
   "source": [
    "### Aggregating our data:\n",
    "Now, we'll create full datasets for training, validation, and testing."
   ]
  },
  {
   "cell_type": "code",
   "execution_count": null,
   "metadata": {},
   "outputs": [],
   "source": [
    "#Training Data\n",
    "training_data = []\n",
    "for i in range(len(training_firsts)):\n",
    "    cur_pair_data = {\n",
    "        'src_tokens' : training_firsts[i],\n",
    "        'tgt_tokens' : training_secs[i],\n",
    "\n",
    "        'src_len' : len(training_firsts[i]),\n",
    "        'tgt_len' : len(training_secs[i]),\n",
    "\n",
    "        'src_indices' : torch.tensor(tokenized_to_indices(training_firsts[i]), dtype=torch.int16),\n",
    "        'tgt_indices' : torch.tensor(tokenized_to_indices(training_secs[i]), dtype=torch.int16),\n",
    "\n",
    "        'src_embeddings' : sent_to_embed(training_firsts[i]),\n",
    "        'tgt_embeddings' : sent_to_embed(training_secs[i])\n",
    "        }\n",
    "    training_data.append(cur_pair_data)"
   ]
  },
  {
   "cell_type": "markdown",
   "metadata": {},
   "source": [
    "We'll repeat the process for validation and testing:"
   ]
  },
  {
   "cell_type": "code",
   "execution_count": null,
   "metadata": {},
   "outputs": [],
   "source": [
    "#VALIDATION DATA\n",
    "validation_data = []\n",
    "for i in range(len(valid_firsts)):\n",
    "    cur_pair_data = {\n",
    "        'src_tokens' : valid_firsts[i],\n",
    "        'tgt_tokens' : valid_secs[i],\n",
    "\n",
    "        'src_len' : len(valid_firsts[i]),\n",
    "        'tgt_len' : len(valid_secs[i]),\n",
    "\n",
    "        'src_indices' : torch.tensor(tokenized_to_indices(valid_firsts[i]), dtype=torch.int16),\n",
    "        'tgt_indices' : torch.tensor(tokenized_to_indices(valid_secs[i]), dtype=torch.int16),\n",
    "\n",
    "        'src_embeddings' : sent_to_embed(valid_firsts[i]),\n",
    "        'tgt_embeddings' : sent_to_embed(valid_secs[i])\n",
    "        }\n",
    "    validation_data.append(cur_pair_data)"
   ]
  },
  {
   "cell_type": "code",
   "execution_count": null,
   "metadata": {},
   "outputs": [],
   "source": [
    "#TESTING DATA\n",
    "testing_data = []\n",
    "for i in range(len(test_firsts)):\n",
    "    cur_pair_data = {\n",
    "        'src_tokens' : test_firsts[i],\n",
    "        'tgt_tokens' : test_secs[i],\n",
    "\n",
    "        'src_len' : len(test_firsts[i]),\n",
    "        'tgt_len' : len(test_secs[i]),\n",
    "\n",
    "        'src_indices' : torch.tensor(tokenized_to_indices(test_firsts[i]), dtype=torch.int16),\n",
    "        'tgt_indices' : torch.tensor(tokenized_to_indices(test_secs[i]), dtype=torch.int16),\n",
    "\n",
    "        'src_embeddings' : sent_to_embed(test_firsts[i]),\n",
    "        'tgt_embeddings' : sent_to_embed(test_secs[i])\n",
    "        }\n",
    "    testing_data.append(cur_pair_data)"
   ]
  },
  {
   "cell_type": "markdown",
   "metadata": {},
   "source": [
    "### Building the Model\n",
    "We've now prepared our training, validation, and testing data. We now need to build the LSTM model, Encoder, and Decoder."
   ]
  },
  {
   "cell_type": "code",
   "execution_count": null,
   "metadata": {},
   "outputs": [],
   "source": [
    "from model import Encoder, Decoder, S2S\n",
    "\n",
    "#See model.py for encoder, decoder, and seq-2-seq classes\n",
    "\n",
    "encoder = Encoder(EMBED_SIZE, EMBED_SIZE)\n",
    "decoder = Decoder(EMBED_SIZE, EMBED_SIZE, index_to_embedding)\n",
    "s2s = S2S(encoder, decoder)"
   ]
  },
  {
   "cell_type": "markdown",
   "metadata": {},
   "source": [
    "Initalize weights: the paper uses uniform between -0.08 and 0.08. Set up optimizer and loss functions: I'm using SGD and cross entropy loss."
   ]
  },
  {
   "cell_type": "code",
   "execution_count": null,
   "metadata": {},
   "outputs": [],
   "source": [
    "def init_weights(model):\n",
    "    for name, parameter in model.named_parameters():\n",
    "        nn.init.uniform_(parameter.data, -0.08, 0.08)"
   ]
  },
  {
   "cell_type": "markdown",
   "metadata": {},
   "source": [
    "### Training the Model"
   ]
  },
  {
   "cell_type": "markdown",
   "metadata": {},
   "source": [
    "Training Loop:"
   ]
  },
  {
   "cell_type": "code",
   "execution_count": null,
   "metadata": {},
   "outputs": [],
   "source": [
    "def train_fn(model, optimizer, criterion, training_data):\n",
    "    model.train()\n",
    "    epoch_loss = 0\n",
    "    for i in range(len(training_data)):\n",
    "        src = training_data[i]['src_embeddings']\n",
    "        tgt = training_data[i]['tgt_embeddings']\n",
    "        \n",
    "        optimizer.zero_grad()\n",
    "        output = model(src, tgt, tf=True)\n",
    "        \n",
    "        loss = criterion(output, tgt)\n",
    "        loss.backward()\n",
    "        \n",
    "        torch.nn.utils.clip_grad_norm_(model.parameters(), 1.0)\n",
    "\n",
    "        optimizer.step()\n",
    "        epoch_loss += loss.item()\n",
    "    return epoch_loss/len(training_data)"
   ]
  },
  {
   "cell_type": "markdown",
   "metadata": {},
   "source": [
    "Evaluation Loop: (no updating parameters)"
   ]
  },
  {
   "cell_type": "code",
   "execution_count": null,
   "metadata": {},
   "outputs": [],
   "source": [
    "def eval_fn(model, criterion, val_data):\n",
    "    model.eval()\n",
    "    epoch_loss = 0\n",
    "    with torch.no_grad():\n",
    "        for i in range(len(val_data)):\n",
    "            src = val_data[i]['src_embeddings']\n",
    "            tgt = val_data[i]['tgt_embeddings']\n",
    "\n",
    "            output = model(src, tgt, tf=False)\n",
    "\n",
    "            loss = criterion(output, tgt)\n",
    "            epoch_loss += loss.item()\n",
    "    \n",
    "    return epoch_loss/len(val_data)"
   ]
  },
  {
   "cell_type": "markdown",
   "metadata": {},
   "source": [
    "Model Training:"
   ]
  },
  {
   "cell_type": "code",
   "execution_count": null,
   "metadata": {},
   "outputs": [
    {
     "name": "stderr",
     "output_type": "stream",
     "text": [
      "  5%|▌         | 1/20 [01:42<32:24, 102.32s/it]"
     ]
    },
    {
     "name": "stdout",
     "output_type": "stream",
     "text": [
      "\tTrain Loss: 0.06069044642412086\n",
      "\tValid Loss: 0.051739056343833606\n"
     ]
    },
    {
     "name": "stderr",
     "output_type": "stream",
     "text": [
      " 10%|█         | 2/20 [03:24<30:42, 102.37s/it]"
     ]
    },
    {
     "name": "stdout",
     "output_type": "stream",
     "text": [
      "\tTrain Loss: 0.050458548085688754\n",
      "\tValid Loss: 0.049838813816507656\n"
     ]
    },
    {
     "name": "stderr",
     "output_type": "stream",
     "text": [
      " 15%|█▌        | 3/20 [05:06<28:58, 102.26s/it]"
     ]
    },
    {
     "name": "stdout",
     "output_type": "stream",
     "text": [
      "\tTrain Loss: 0.049510427781506\n",
      "\tValid Loss: 0.04940816324949265\n"
     ]
    },
    {
     "name": "stderr",
     "output_type": "stream",
     "text": [
      " 20%|██        | 4/20 [06:50<27:25, 102.87s/it]"
     ]
    },
    {
     "name": "stdout",
     "output_type": "stream",
     "text": [
      "\tTrain Loss: 0.049228917181521475\n",
      "\tValid Loss: 0.04924472151696682\n"
     ]
    },
    {
     "name": "stderr",
     "output_type": "stream",
     "text": [
      " 25%|██▌       | 5/20 [08:33<25:43, 102.87s/it]"
     ]
    },
    {
     "name": "stdout",
     "output_type": "stream",
     "text": [
      "\tTrain Loss: 0.04908892359940065\n",
      "\tValid Loss: 0.049122838805119196\n"
     ]
    },
    {
     "name": "stderr",
     "output_type": "stream",
     "text": [
      " 30%|███       | 6/20 [10:15<23:55, 102.52s/it]"
     ]
    },
    {
     "name": "stdout",
     "output_type": "stream",
     "text": [
      "\tTrain Loss: 0.049013554502458784\n",
      "\tValid Loss: 0.04904992839694023\n"
     ]
    },
    {
     "name": "stderr",
     "output_type": "stream",
     "text": [
      " 35%|███▌      | 7/20 [11:58<22:13, 102.61s/it]"
     ]
    },
    {
     "name": "stdout",
     "output_type": "stream",
     "text": [
      "\tTrain Loss: 0.048945929421848854\n",
      "\tValid Loss: 0.049024965862433115\n"
     ]
    },
    {
     "name": "stderr",
     "output_type": "stream",
     "text": [
      " 40%|████      | 8/20 [13:41<20:34, 102.89s/it]"
     ]
    },
    {
     "name": "stdout",
     "output_type": "stream",
     "text": [
      "\tTrain Loss: 0.04888727213148055\n",
      "\tValid Loss: 0.04894506859779358\n"
     ]
    },
    {
     "name": "stderr",
     "output_type": "stream",
     "text": [
      " 45%|████▌     | 9/20 [15:23<18:48, 102.62s/it]"
     ]
    },
    {
     "name": "stdout",
     "output_type": "stream",
     "text": [
      "\tTrain Loss: 0.048848828818646585\n",
      "\tValid Loss: 0.04890425487359365\n"
     ]
    },
    {
     "name": "stderr",
     "output_type": "stream",
     "text": [
      " 50%|█████     | 10/20 [17:03<16:56, 101.66s/it]"
     ]
    },
    {
     "name": "stdout",
     "output_type": "stream",
     "text": [
      "\tTrain Loss: 0.04882087456550007\n",
      "\tValid Loss: 0.04895179921388626\n"
     ]
    },
    {
     "name": "stderr",
     "output_type": "stream",
     "text": [
      " 55%|█████▌    | 11/20 [18:42<15:09, 101.07s/it]"
     ]
    },
    {
     "name": "stdout",
     "output_type": "stream",
     "text": [
      "\tTrain Loss: 0.04879321768013371\n",
      "\tValid Loss: 0.04884292974571387\n"
     ]
    },
    {
     "name": "stderr",
     "output_type": "stream",
     "text": [
      " 60%|██████    | 12/20 [20:19<13:18, 99.83s/it] "
     ]
    },
    {
     "name": "stdout",
     "output_type": "stream",
     "text": [
      "\tTrain Loss: 0.0487728767372258\n",
      "\tValid Loss: 0.04883998802304268\n"
     ]
    },
    {
     "name": "stderr",
     "output_type": "stream",
     "text": [
      " 65%|██████▌   | 13/20 [21:56<11:32, 98.91s/it]"
     ]
    },
    {
     "name": "stdout",
     "output_type": "stream",
     "text": [
      "\tTrain Loss: 0.04875574665572408\n",
      "\tValid Loss: 0.04886749848226706\n"
     ]
    },
    {
     "name": "stderr",
     "output_type": "stream",
     "text": [
      " 70%|███████   | 14/20 [23:32<09:47, 97.84s/it]"
     ]
    },
    {
     "name": "stdout",
     "output_type": "stream",
     "text": [
      "\tTrain Loss: 0.04873686004862081\n",
      "\tValid Loss: 0.04883208195368449\n"
     ]
    },
    {
     "name": "stderr",
     "output_type": "stream",
     "text": [
      " 75%|███████▌  | 15/20 [25:05<08:02, 96.47s/it]"
     ]
    },
    {
     "name": "stdout",
     "output_type": "stream",
     "text": [
      "\tTrain Loss: 0.04872377189351499\n",
      "\tValid Loss: 0.0488109727203846\n"
     ]
    },
    {
     "name": "stderr",
     "output_type": "stream",
     "text": [
      " 80%|████████  | 16/20 [26:39<06:22, 95.74s/it]"
     ]
    },
    {
     "name": "stdout",
     "output_type": "stream",
     "text": [
      "\tTrain Loss: 0.04870858887238878\n",
      "\tValid Loss: 0.04880461804568768\n"
     ]
    },
    {
     "name": "stderr",
     "output_type": "stream",
     "text": [
      " 85%|████████▌ | 17/20 [28:13<04:45, 95.31s/it]"
     ]
    },
    {
     "name": "stdout",
     "output_type": "stream",
     "text": [
      "\tTrain Loss: 0.0486958364451846\n",
      "\tValid Loss: 0.04881714140872161\n"
     ]
    },
    {
     "name": "stderr",
     "output_type": "stream",
     "text": [
      " 90%|█████████ | 18/20 [29:47<03:09, 94.97s/it]"
     ]
    },
    {
     "name": "stdout",
     "output_type": "stream",
     "text": [
      "\tTrain Loss: 0.04868297370840691\n",
      "\tValid Loss: 0.0488311544607083\n"
     ]
    },
    {
     "name": "stderr",
     "output_type": "stream",
     "text": [
      " 95%|█████████▌| 19/20 [31:22<01:34, 94.74s/it]"
     ]
    },
    {
     "name": "stdout",
     "output_type": "stream",
     "text": [
      "\tTrain Loss: 0.048670775118802974\n",
      "\tValid Loss: 0.04877820883691311\n"
     ]
    },
    {
     "name": "stderr",
     "output_type": "stream",
     "text": [
      "100%|██████████| 20/20 [32:55<00:00, 98.79s/it]"
     ]
    },
    {
     "name": "stdout",
     "output_type": "stream",
     "text": [
      "\tTrain Loss: 0.04865909855062299\n",
      "\tValid Loss: 0.048748098934690155\n"
     ]
    },
    {
     "name": "stderr",
     "output_type": "stream",
     "text": [
      "\n"
     ]
    }
   ],
   "source": [
    "s2s.apply(init_weights)\n",
    "optimizer = optim.Adam(s2s.parameters())\n",
    "criterion = nn.MSELoss()\n",
    "\n",
    "n_epochs = 20\n",
    "best_valid_loss = float(\"inf\")\n",
    "\n",
    "#Testing with subsets\n",
    "#subset_size = 1000\n",
    "#train_subs = training_data[:subset_size]\n",
    "#valid_subs = validation_data[:subset_size]\n",
    "\n",
    "training_losses = []\n",
    "valid_losses = []\n",
    "\n",
    "for epoch in tqdm.tqdm(range(n_epochs)):\n",
    "    train_loss = train_fn(s2s, optimizer, criterion, training_data)\n",
    "    valid_loss = eval_fn(s2s, criterion, validation_data)\n",
    "\n",
    "    training_losses.append(train_loss)\n",
    "    valid_losses.append(valid_loss)\n",
    "\n",
    "    print(f\"\\tTrain Loss: {train_loss}\")\n",
    "    print(f\"\\tValid Loss: {valid_loss}\")\n",
    "    if valid_loss < best_valid_loss:\n",
    "        best_valid_loss = valid_loss\n",
    "        torch.save(s2s.state_dict(), \"saved_lstm.pt\")   "
   ]
  },
  {
   "cell_type": "code",
   "execution_count": null,
   "metadata": {},
   "outputs": [],
   "source": [
    "def convert_to_english(embeddings, index_to_embedding, index_to_target):\n",
    "    tokens = []\n",
    "    for i in range(len(embeddings)):\n",
    "        minimum = np.Inf\n",
    "        minimum_index = -1\n",
    "        for j in range(len(index_to_embedding)):\n",
    "            if torch.norm(index_to_embedding[j] - embeddings[i]) < minimum:\n",
    "                minimum = torch.norm(index_to_embedding[j] - embeddings[i])\n",
    "                minimum_index = j\n",
    "        tokens.append(index_to_target[minimum_index])\n",
    "    \n",
    "    return tokens"
   ]
  },
  {
   "cell_type": "code",
   "execution_count": null,
   "metadata": {},
   "outputs": [
    {
     "name": "stderr",
     "output_type": "stream",
     "text": [
      "100%|██████████| 750/750 [02:24<00:00,  5.21it/s]\n"
     ]
    }
   ],
   "source": [
    "def test(model, test_data, index_to_embedding, index_to_target):\n",
    "    model.eval()\n",
    "    epoch_loss = 0\n",
    "    predicted_tokens = []\n",
    "    actual_tokens = []\n",
    "    with torch.no_grad():\n",
    "        for i in tqdm.tqdm(range(len(test_data))): #TODO::: CHANGE MEEEE\n",
    "            src = test_data[i]['src_embeddings']\n",
    "            tgt = test_data[i]['tgt_embeddings']\n",
    "\n",
    "            output = model(src, tgt, tf=False)\n",
    "            predicted_tokens.append(convert_to_english(output, index_to_embedding, index_to_target))\n",
    "            actual_tokens.append(convert_to_english(test_data[i]['tgt_embeddings'], index_to_embedding, index_to_target))\n",
    "\n",
    "            loss = criterion(output, tgt)\n",
    "            epoch_loss += loss.item()\n",
    "    \n",
    "    return epoch_loss/len(test_data), predicted_tokens, actual_tokens\n",
    "\n",
    "test_loss, predictions_tokens, actuals_tokens = test(s2s, testing_data, index_to_embedding, index_to_target)"
   ]
  },
  {
   "cell_type": "markdown",
   "metadata": {},
   "source": [
    "Plotting Train/Validation error as a function of epoch:"
   ]
  },
  {
   "cell_type": "code",
   "execution_count": null,
   "metadata": {},
   "outputs": [
    {
     "data": {
      "text/plain": [
       "<matplotlib.legend.Legend at 0x7f637a16aee0>"
      ]
     },
     "execution_count": 35,
     "metadata": {},
     "output_type": "execute_result"
    },
    {
     "data": {
      "image/png": "[encoded data removed]",
      "text/plain": [
       "<Figure size 640x480 with 1 Axes>"
      ]
     },
     "metadata": {},
     "output_type": "display_data"
    }
   ],
   "source": [
    "import matplotlib.pyplot as plt\n",
    "epochs_x = np.arange(n_epochs, dtype=int) + 1\n",
    "xticks = [1]\n",
    "for i in range(2, n_epochs + 1):\n",
    "    if i % 5 == 0:\n",
    "        xticks.append(i)\n",
    "\n",
    "fig, ax = plt.subplots()\n",
    "ax.plot(epochs_x, training_losses, label=\"Training Loss\")\n",
    "ax.plot(epochs_x, valid_losses, label=\"Validation Loss\")\n",
    "\n",
    "ax.set_xlabel(\"Epoch\")\n",
    "ax.set_ylabel(\"Loss\")\n",
    "\n",
    "ax.set_title(\"Training/Validation Loss over Epochs: Random Embeddings\")\n",
    "ax.set_xticks(xticks)\n",
    "ax.legend()\n"
   ]
  },
  {
   "cell_type": "markdown",
   "metadata": {},
   "source": [
    "Let's generate some sample sentence predictions/actual output pairs: First, we'll define a function to convert a list of tokens to a string sentence"
   ]
  },
  {
   "cell_type": "code",
   "execution_count": null,
   "metadata": {},
   "outputs": [],
   "source": [
    "def tokens_to_string(tokens):\n",
    "    str = \"\"\n",
    "    for token in tokens:\n",
    "        str += token + \" \"\n",
    "    return str"
   ]
  },
  {
   "cell_type": "markdown",
   "metadata": {},
   "source": [
    "Now, we can compare predictions and testing outputs:"
   ]
  },
  {
   "cell_type": "code",
   "execution_count": null,
   "metadata": {},
   "outputs": [
    {
     "name": "stdout",
     "output_type": "stream",
     "text": [
      "Example 1 (test sample 1):\n",
      "Input sentence: <s> Sue ended up being very good . </s> \n",
      "Correct response: <s> Sue stuck with dance and loved it . </s> \n",
      "Predicted response: <s> Sue stuck with dance and loved it . </s> \n",
      "\n",
      "Example 2 (test sample 101):\n",
      "Input sentence: <s> The wind was getting very bad by Bob 's house . </s> \n",
      "Correct response: <s> Bob went in to check the weather report . </s> \n",
      "Predicted response: <s> Bob went in to check the weather report . </s> \n",
      "\n",
      "Example 3 (test sample 201):\n",
      "Input sentence: <s> Sue was walking to the store . </s> \n",
      "Correct response: <s> She noticed someone near her on the sidewalk . </s> \n",
      "Predicted response: <s> She noticed someone near her on the sidewalk . </s> \n",
      "\n",
      "Example 4 (test sample 301):\n",
      "Input sentence: <s> Bob got up in the morning , all ready for his first class . </s> \n",
      "Correct response: <s> Before he left , he realized he didn 't have his phone . </s> \n",
      "Predicted response: <s> Before he left , he realized he didn 't have his phone . </s> \n",
      "\n",
      "Example 5 (test sample 401):\n",
      "Input sentence: <s> Bob 's grandmother needed him to take her to the doctor . </s> \n",
      "Correct response: <s> Bob had to take time off from work to do so . </s> \n",
      "Predicted response: <s> Bob had to take time off from work to do so . </s> \n",
      "\n",
      "Example 6 (test sample 501):\n",
      "Input sentence: <s> Sue promised her parents she would be safe at all times . </s> \n",
      "Correct response: <s> Her parents decided to get her the bike . </s> \n",
      "Predicted response: <s> Her parents decided to get her the bike . </s> \n",
      "\n",
      "Example 7 (test sample 601):\n",
      "Input sentence: <s> Sue had been saving money all summer . </s> \n",
      "Correct response: <s> It was time for her to get her very first car . </s> \n",
      "Predicted response: <s> It was time for her to get her very first car . </s> \n",
      "\n",
      "Example 8 (test sample 701):\n",
      "Input sentence: <s> Bob and his mother made an apple pie later that night . </s> \n",
      "Correct response: <s> The pie turned out to be delicious ! </s> \n",
      "Predicted response: <s> The pie turned out to be delicious ! </s> \n",
      "\n"
     ]
    }
   ],
   "source": [
    "for j in range(8):\n",
    "    i = j * 100\n",
    "    #so we can look at 0, 100, 200, 300, 400, 500, 600, 700th test pairs\n",
    "    test_input = tokens_to_string(testing_data[i]['src_tokens'])\n",
    "    testing_actual = tokens_to_string(actuals_tokens[i])\n",
    "    test_prediction = tokens_to_string(predictions_tokens[i])\n",
    "    \n",
    "\n",
    "    print(f\"Example {j + 1} (test sample {i + 1}):\")\n",
    "    print(f\"Input sentence: {test_input}\")\n",
    "    print(f\"Correct response: {testing_actual}\")\n",
    "    print(f\"Predicted response: {test_prediction}\")\n",
    "\n",
    "    print()\n"
   ]
  },
  {
   "cell_type": "markdown",
   "metadata": {},
   "source": [
    "Sending all predictions to predictions_random.txt"
   ]
  },
  {
   "cell_type": "code",
   "execution_count": null,
   "metadata": {},
   "outputs": [],
   "source": [
    "with open(\"predictions_random.txt\", \"w\") as outfile:\n",
    "    for j in range(len(testing_data)):\n",
    "        cur_pred_tokens = predictions_tokens[j]\n",
    "        cur_prediction = tokens_to_string(cur_pred_tokens) + \"\\n\"\n",
    "        outfile.write(cur_prediction)"
   ]
  },
  {
   "cell_type": "markdown",
   "metadata": {},
   "source": [
    "Let's now see how many predictions are different than the output:"
   ]
  },
  {
   "cell_type": "code",
   "execution_count": null,
   "metadata": {},
   "outputs": [
    {
     "name": "stdout",
     "output_type": "stream",
     "text": [
      "2\n"
     ]
    }
   ],
   "source": [
    "incorrect_indices = []\n",
    "for i in range(len(actuals_tokens)):\n",
    "    if actuals_tokens[i] != predictions_tokens[i]:\n",
    "        \n",
    "        incorrect_indices.append(i)\n",
    "len(incorrect_indices)\n",
    "\n",
    "print(incorrect_indices[0])"
   ]
  },
  {
   "cell_type": "markdown",
   "metadata": {},
   "source": [
    "Output the incorrect sequences and compare to the correct sentences:"
   ]
  },
  {
   "cell_type": "code",
   "execution_count": null,
   "metadata": {},
   "outputs": [],
   "source": [
    "with open(\"incorrect_predictions_random.txt\", \"w\") as incorrectfile:\n",
    "    for j in range(len(incorrect_indices)):\n",
    "        incorrect_index = incorrect_indices[j]\n",
    "        correct = tokens_to_string(actuals_tokens[incorrect_index]) + \"\\n\"\n",
    "        prediction = tokens_to_string(predictions_tokens[incorrect_index]) + \"\\n\"\n",
    "\n",
    "        incorrectfile.write(f\"Test line: {incorrect_index + 1}\\n\")\n",
    "        incorrectfile.write(f\"Correct output: {correct}\")\n",
    "        incorrectfile.write(f\"Predicted output: {prediction}\\n\")\n"
   ]
  },
  {
   "cell_type": "markdown",
   "metadata": {},
   "source": [
    "Now that we know the indices on the test set where we were incorrect, we can find which words were correct/wrong the most"
   ]
  },
  {
   "cell_type": "code",
   "execution_count": null,
   "metadata": {},
   "outputs": [],
   "source": [
    "def compare_tokens(prediction, actual, correct_usage):\n",
    "    \"\"\"\n",
    "    Compares the tokens between prediction and actual sentences (both lists of tokens), increments 'correct' or 'incorrect' values\n",
    "    for that token. We increment based on the actual word, not the prediction\n",
    "    \"\"\"\n",
    "    for i in range(len(prediction)):\n",
    "        pred_token = prediction[i]\n",
    "        act_token = actual[i]\n",
    "        \n",
    "        if pred_token == act_token:\n",
    "            correct_usage[act_token]['correct'] += 1\n",
    "        else:\n",
    "            correct_usage[act_token]['incorrect'] += 1\n",
    "\n",
    "        correct_usage[act_token]['appearances'] += 1\n",
    "    \n",
    "    return correct_usage"
   ]
  },
  {
   "cell_type": "code",
   "execution_count": null,
   "metadata": {},
   "outputs": [],
   "source": [
    "correct_usage = {}\n",
    "for token in target_voc:\n",
    "    token_dict = {}\n",
    "    token_dict['correct'] = 0\n",
    "    token_dict['incorrect'] = 0\n",
    "    token_dict['appearances'] = 0\n",
    "\n",
    "    #We'll update these after calculating the above 3\n",
    "    token_dict['correct_rate'] = -1\n",
    "    token_dict['incorrect_rate'] = -1\n",
    "    correct_usage[token] = token_dict"
   ]
  },
  {
   "cell_type": "markdown",
   "metadata": {},
   "source": [
    "Now, we go through each testing pair to see how each word performed"
   ]
  },
  {
   "cell_type": "code",
   "execution_count": null,
   "metadata": {},
   "outputs": [],
   "source": [
    "for i in range(len(actuals_tokens)):\n",
    "    prediction = predictions_tokens[i]\n",
    "    actual = actuals_tokens[i]\n",
    "    correct_usage = compare_tokens(prediction, actual, correct_usage)"
   ]
  },
  {
   "cell_type": "markdown",
   "metadata": {},
   "source": [
    "Now, we calculate correct rates and incorrect rates for each word"
   ]
  },
  {
   "cell_type": "code",
   "execution_count": null,
   "metadata": {},
   "outputs": [],
   "source": [
    "for token in correct_usage:\n",
    "    n_correct = correct_usage[token]['correct']\n",
    "    n_incorrect = correct_usage[token]['incorrect']\n",
    "    n_appearances = correct_usage[token]['appearances']\n",
    "\n",
    "    #Some words only appear in the initial sentence, not the second\n",
    "    if n_appearances != 0:\n",
    "        correct_usage[token]['correct_rate'] = n_correct/n_appearances\n",
    "        correct_usage[token]['incorrect_rate'] = n_incorrect/n_appearances"
   ]
  },
  {
   "cell_type": "code",
   "execution_count": null,
   "metadata": {},
   "outputs": [
    {
     "data": {
      "text/plain": [
       "[(1.0, 'zoo'),\n",
       " (1.0, 'young'),\n",
       " (1.0, 'yes'),\n",
       " (1.0, 'yelled'),\n",
       " (1.0, 'years'),\n",
       " (1.0, 'year'),\n",
       " (1.0, 'wrong'),\n",
       " (1.0, 'write'),\n",
       " (1.0, 'wouldn'),\n",
       " (1.0, 'would'),\n",
       " (1.0, 'worried'),\n",
       " (1.0, 'world'),\n",
       " (1.0, 'working'),\n",
       " (1.0, 'worker'),\n",
       " (1.0, 'worked'),\n",
       " (1.0, 'work'),\n",
       " (1.0, 'wore'),\n",
       " (1.0, 'woods'),\n",
       " (1.0, 'wonderful'),\n",
       " (1.0, 'won'),\n",
       " (1.0, 'woman'),\n",
       " (1.0, 'without'),\n",
       " (1.0, 'with'),\n",
       " (1.0, 'wine'),\n",
       " (1.0, 'window'),\n",
       " (1.0, 'wind'),\n",
       " (1.0, 'win'),\n",
       " (1.0, 'wife'),\n",
       " (1.0, 'why'),\n",
       " (1.0, 'whole'),\n",
       " (1.0, 'who'),\n",
       " (1.0, 'white'),\n",
       " (1.0, 'while'),\n",
       " (1.0, 'where'),\n",
       " (1.0, 'when'),\n",
       " (1.0, 'what'),\n",
       " (1.0, 'were'),\n",
       " (1.0, 'went'),\n",
       " (1.0, 'well'),\n",
       " (1.0, 'weight'),\n",
       " (1.0, 'weeks'),\n",
       " (1.0, 'weekend'),\n",
       " (1.0, 'week'),\n",
       " (1.0, 'weather'),\n",
       " (1.0, 'wearing'),\n",
       " (1.0, 'wear'),\n",
       " (1.0, 'we'),\n",
       " (1.0, 'way'),\n",
       " (1.0, 'water'),\n",
       " (1.0, 'watched'),\n",
       " (1.0, 'watch'),\n",
       " (1.0, 'wasn'),\n",
       " (1.0, 'was'),\n",
       " (1.0, 'warned'),\n",
       " (1.0, 'warm'),\n",
       " (1.0, 'wants'),\n",
       " (1.0, 'wanted'),\n",
       " (1.0, 'want'),\n",
       " (1.0, 'walks'),\n",
       " (1.0, 'walking'),\n",
       " (1.0, 'walked'),\n",
       " (1.0, 'walk'),\n",
       " (1.0, 'waited'),\n",
       " (1.0, 'wait'),\n",
       " (1.0, 'vowed'),\n",
       " (1.0, 'visiting'),\n",
       " (1.0, 'visited'),\n",
       " (1.0, 'visit'),\n",
       " (1.0, 'video'),\n",
       " (1.0, 'vet'),\n",
       " (1.0, 'very'),\n",
       " (1.0, 'vacation'),\n",
       " (1.0, 'usually'),\n",
       " (1.0, 'using'),\n",
       " (1.0, 'used'),\n",
       " (1.0, 'use'),\n",
       " (1.0, 'upset'),\n",
       " (1.0, 'up'),\n",
       " (1.0, 'until'),\n",
       " (1.0, 'understand'),\n",
       " (1.0, 'uncle'),\n",
       " (1.0, 'unable'),\n",
       " (1.0, 'two'),\n",
       " (1.0, 'tutor'),\n",
       " (1.0, 'turns'),\n",
       " (1.0, 'turned'),\n",
       " (1.0, 'turn'),\n",
       " (1.0, 'trying'),\n",
       " (1.0, 'try'),\n",
       " (1.0, 'truck'),\n",
       " (1.0, 'trouble'),\n",
       " (1.0, 'tripped'),\n",
       " (1.0, 'trip'),\n",
       " (1.0, 'tried'),\n",
       " (1.0, 'training'),\n",
       " (1.0, 'train'),\n",
       " (1.0, 'traffic'),\n",
       " (1.0, 'track'),\n",
       " (1.0, 'toys'),\n",
       " (1.0, 'toy'),\n",
       " (1.0, 'town'),\n",
       " (1.0, 'tournament'),\n",
       " (1.0, 'tooth'),\n",
       " (1.0, 'took'),\n",
       " (1.0, 'too'),\n",
       " (1.0, 'tomorrow'),\n",
       " (1.0, 'told'),\n",
       " (1.0, 'together'),\n",
       " (1.0, 'today'),\n",
       " (1.0, 'to'),\n",
       " (1.0, 'tired'),\n",
       " (1.0, 'tire'),\n",
       " (1.0, 'times'),\n",
       " (1.0, 'time'),\n",
       " (1.0, 'tied'),\n",
       " (1.0, 'tickets'),\n",
       " (1.0, 'ticket'),\n",
       " (1.0, 'throwing'),\n",
       " (1.0, 'throw'),\n",
       " (1.0, 'through'),\n",
       " (1.0, 'threw'),\n",
       " (1.0, 'three'),\n",
       " (1.0, 'thought'),\n",
       " (1.0, 'though'),\n",
       " (1.0, 'this'),\n",
       " (1.0, 'thinks'),\n",
       " (1.0, 'thinking'),\n",
       " (1.0, 'things'),\n",
       " (1.0, 'thing'),\n",
       " (1.0, 'they'),\n",
       " (1.0, 'there'),\n",
       " (1.0, 'then'),\n",
       " (1.0, 'them'),\n",
       " (1.0, 'their'),\n",
       " (1.0, 'the'),\n",
       " (1.0, 'that'),\n",
       " (1.0, 'thanked'),\n",
       " (1.0, 'tennis'),\n",
       " (1.0, 'tells'),\n",
       " (1.0, 'tell'),\n",
       " (1.0, 'team'),\n",
       " (1.0, 'teacher'),\n",
       " (1.0, 'tasted'),\n",
       " (1.0, 'tall'),\n",
       " (1.0, 'talking'),\n",
       " (1.0, 'talked'),\n",
       " (1.0, 'talk'),\n",
       " (1.0, 'taking'),\n",
       " (1.0, 'take'),\n",
       " (1.0, 'table'),\n",
       " (1.0, 'swing'),\n",
       " (1.0, 'swimming'),\n",
       " (1.0, 'sweater'),\n",
       " (1.0, 'surprised'),\n",
       " (1.0, 'surprise'),\n",
       " (1.0, 'sure'),\n",
       " (1.0, 'supposed'),\n",
       " (1.0, 'summer'),\n",
       " (1.0, 'suit'),\n",
       " (1.0, 'suggested'),\n",
       " (1.0, 'sudden'),\n",
       " (1.0, 'such'),\n",
       " (1.0, 'stuff'),\n",
       " (1.0, 'studying'),\n",
       " (1.0, 'studied'),\n",
       " (1.0, 'students'),\n",
       " (1.0, 'student'),\n",
       " (1.0, 'stuck'),\n",
       " (1.0, 'strong'),\n",
       " (1.0, 'street'),\n",
       " (1.0, 'strange'),\n",
       " (1.0, 'straight'),\n",
       " (1.0, 'story'),\n",
       " (1.0, 'stores'),\n",
       " (1.0, 'store'),\n",
       " (1.0, 'stopped'),\n",
       " (1.0, 'stop'),\n",
       " (1.0, 'stomach'),\n",
       " (1.0, 'still'),\n",
       " (1.0, 'stepped'),\n",
       " (1.0, 'steak'),\n",
       " (1.0, 'staying'),\n",
       " (1.0, 'stayed'),\n",
       " (1.0, 'stay'),\n",
       " (1.0, 'started'),\n",
       " (1.0, 'start'),\n",
       " (1.0, 'spotted'),\n",
       " (1.0, 'sports'),\n",
       " (1.0, 'spilled'),\n",
       " (1.0, 'spent'),\n",
       " (1.0, 'spend'),\n",
       " (1.0, 'speeding'),\n",
       " (1.0, 'soup'),\n",
       " (1.0, 'sound'),\n",
       " (1.0, 'soon'),\n",
       " (1.0, 'song'),\n",
       " (1.0, 'son'),\n",
       " (1.0, 'something'),\n",
       " (1.0, 'someone'),\n",
       " (1.0, 'some'),\n",
       " (1.0, 'soda'),\n",
       " (1.0, 'socks'),\n",
       " (1.0, 'soccer'),\n",
       " (1.0, 'so'),\n",
       " (1.0, 'snow'),\n",
       " (1.0, 'snake'),\n",
       " (1.0, 'smiled'),\n",
       " (1.0, 'smelled'),\n",
       " (1.0, 'smell'),\n",
       " (1.0, 'small'),\n",
       " (1.0, 'slow'),\n",
       " (1.0, 'slipped'),\n",
       " (1.0, 'slept'),\n",
       " (1.0, 'sleep'),\n",
       " (1.0, 'skating'),\n",
       " (1.0, 'size'),\n",
       " (1.0, 'sit'),\n",
       " (1.0, 'sister'),\n",
       " (1.0, 'since'),\n",
       " (1.0, 'sidewalk'),\n",
       " (1.0, 'side'),\n",
       " (1.0, 'sick'),\n",
       " (1.0, 'siblings'),\n",
       " (1.0, 'shower'),\n",
       " (1.0, 'showed'),\n",
       " (1.0, 'show'),\n",
       " (1.0, 'should'),\n",
       " (1.0, 'shot'),\n",
       " (1.0, 'shopping'),\n",
       " (1.0, 'shoes'),\n",
       " (1.0, 'shocked'),\n",
       " (1.0, 'shirt'),\n",
       " (1.0, 'shelter'),\n",
       " (1.0, 'she'),\n",
       " (1.0, 'share'),\n",
       " (1.0, 'several'),\n",
       " (1.0, 'set'),\n",
       " (1.0, 'sent'),\n",
       " (1.0, 'seen'),\n",
       " (1.0, 'seemed'),\n",
       " (1.0, 'seeing'),\n",
       " (1.0, 'see'),\n",
       " (1.0, 'screen'),\n",
       " (1.0, 'score'),\n",
       " (1.0, 'school'),\n",
       " (1.0, 'scared'),\n",
       " (1.0, 'say'),\n",
       " (1.0, 'saw'),\n",
       " (1.0, 'saved'),\n",
       " (1.0, 'sat'),\n",
       " (1.0, 'sandwich'),\n",
       " (1.0, 'sand'),\n",
       " (1.0, 'same'),\n",
       " (1.0, 'sales'),\n",
       " (1.0, 'sale'),\n",
       " (1.0, 'sad'),\n",
       " (1.0, 'rushed'),\n",
       " (1.0, 'running'),\n",
       " (1.0, 'run'),\n",
       " (1.0, 'rude'),\n",
       " (1.0, 'room'),\n",
       " (1.0, 'rode'),\n",
       " (1.0, 'rocks'),\n",
       " (1.0, 'rock'),\n",
       " (1.0, 'ring'),\n",
       " (1.0, 'right'),\n",
       " (1.0, 'ride'),\n",
       " (1.0, 'returned'),\n",
       " (1.0, 'return'),\n",
       " (1.0, 'result'),\n",
       " (1.0, 'rest'),\n",
       " (1.0, 'report'),\n",
       " (1.0, 'relieved'),\n",
       " (1.0, 'record'),\n",
       " (1.0, 'recommended'),\n",
       " (1.0, 'recipe'),\n",
       " (1.0, 'received'),\n",
       " (1.0, 'really'),\n",
       " (1.0, 'realizes'),\n",
       " (1.0, 'realized'),\n",
       " (1.0, 'ready'),\n",
       " (1.0, 'reading'),\n",
       " (1.0, 'read'),\n",
       " (1.0, 'reached'),\n",
       " (1.0, 'ran'),\n",
       " (1.0, 'rainy'),\n",
       " (1.0, 'rain'),\n",
       " (1.0, 'race'),\n",
       " (1.0, 'quit'),\n",
       " (1.0, 'quiet'),\n",
       " (1.0, 'quickly'),\n",
       " (1.0, 'questions'),\n",
       " (1.0, 'put'),\n",
       " (1.0, 'pushed'),\n",
       " (1.0, 'purse'),\n",
       " (1.0, 'purchase'),\n",
       " (1.0, 'puppy'),\n",
       " (1.0, 'pulled'),\n",
       " (1.0, 'proud'),\n",
       " (1.0, 'proposed'),\n",
       " (1.0, 'project'),\n",
       " (1.0, 'professional'),\n",
       " (1.0, 'problem'),\n",
       " (1.0, 'price'),\n",
       " (1.0, 'pretty'),\n",
       " (1.0, 'presents'),\n",
       " (1.0, 'prepared'),\n",
       " (1.0, 'pregnant'),\n",
       " (1.0, 'practicing'),\n",
       " (1.0, 'practiced'),\n",
       " (1.0, 'practice'),\n",
       " (1.0, 'pounds'),\n",
       " (1.0, 'possible'),\n",
       " (1.0, 'pool'),\n",
       " (1.0, 'pond'),\n",
       " (1.0, 'pocket'),\n",
       " (1.0, 'pleased'),\n",
       " (1.0, 'plays'),\n",
       " (1.0, 'playing'),\n",
       " (1.0, 'player'),\n",
       " (1.0, 'played'),\n",
       " (1.0, 'play'),\n",
       " (1.0, 'plant'),\n",
       " (1.0, 'plans'),\n",
       " (1.0, 'planning'),\n",
       " (1.0, 'planned'),\n",
       " (1.0, 'place'),\n",
       " (1.0, 'pizza'),\n",
       " (1.0, 'piece'),\n",
       " (1.0, 'pie'),\n",
       " (1.0, 'picture'),\n",
       " (1.0, 'picked'),\n",
       " (1.0, 'pick'),\n",
       " (1.0, 'piano'),\n",
       " (1.0, 'photo'),\n",
       " (1.0, 'phone'),\n",
       " (1.0, 'pet'),\n",
       " (1.0, 'person'),\n",
       " (1.0, 'perfect'),\n",
       " (1.0, 'people'),\n",
       " (1.0, 'pay'),\n",
       " (1.0, 'past'),\n",
       " (1.0, 'passed'),\n",
       " (1.0, 'party'),\n",
       " (1.0, 'part'),\n",
       " (1.0, 'park'),\n",
       " (1.0, 'parents'),\n",
       " (1.0, 'paper'),\n",
       " (1.0, 'panicked'),\n",
       " (1.0, 'pair'),\n",
       " (1.0, 'paint'),\n",
       " (1.0, 'pain'),\n",
       " (1.0, 'paid'),\n",
       " (1.0, 'packed'),\n",
       " (1.0, 'owned'),\n",
       " (1.0, 'own'),\n",
       " (1.0, 'over'),\n",
       " (1.0, 'outside'),\n",
       " (1.0, 'out'),\n",
       " (1.0, 'other'),\n",
       " (1.0, 'ordered'),\n",
       " (1.0, 'order'),\n",
       " (1.0, 'or'),\n",
       " (1.0, 'opened'),\n",
       " (1.0, 'only'),\n",
       " (1.0, 'online'),\n",
       " (1.0, 'one'),\n",
       " (1.0, 'on'),\n",
       " (1.0, 'old'),\n",
       " (1.0, 'often'),\n",
       " (1.0, 'office'),\n",
       " (1.0, 'offered'),\n",
       " (1.0, 'off'),\n",
       " (1.0, 'of'),\n",
       " (1.0, 'nowhere'),\n",
       " (1.0, 'now'),\n",
       " (1.0, 'noticed'),\n",
       " (1.0, 'nothing'),\n",
       " (1.0, 'note'),\n",
       " (1.0, 'not'),\n",
       " (1.0, 'none'),\n",
       " (1.0, 'no'),\n",
       " (1.0, 'night'),\n",
       " (1.0, 'nice'),\n",
       " (1.0, 'next'),\n",
       " (1.0, 'news'),\n",
       " (1.0, 'new'),\n",
       " (1.0, 'never'),\n",
       " (1.0, 'nervous'),\n",
       " (1.0, 'neighbors'),\n",
       " (1.0, 'neighborhood'),\n",
       " (1.0, 'needed'),\n",
       " (1.0, 'nearby'),\n",
       " (1.0, 'near'),\n",
       " (1.0, 'named'),\n",
       " (1.0, 'name'),\n",
       " (1.0, 'my'),\n",
       " (1.0, 'must'),\n",
       " (1.0, 'music'),\n",
       " (1.0, 'much'),\n",
       " (1.0, 'movies'),\n",
       " (1.0, 'movie'),\n",
       " (1.0, 'move'),\n",
       " (1.0, 'mouth'),\n",
       " (1.0, 'mother'),\n",
       " (1.0, 'morning'),\n",
       " (1.0, 'more'),\n",
       " (1.0, 'months'),\n",
       " (1.0, 'month'),\n",
       " (1.0, 'money'),\n",
       " (1.0, 'moment'),\n",
       " (1.0, 'mom'),\n",
       " (1.0, 'missing'),\n",
       " (1.0, 'missed'),\n",
       " (1.0, 'miss'),\n",
       " (1.0, 'mirror'),\n",
       " (1.0, 'minutes'),\n",
       " (1.0, 'miles'),\n",
       " (1.0, 'met'),\n",
       " (1.0, 'mess'),\n",
       " (1.0, 'meeting'),\n",
       " (1.0, 'meet'),\n",
       " (1.0, 'medicine'),\n",
       " (1.0, 'mean'),\n",
       " (1.0, 'meal'),\n",
       " (1.0, 'me'),\n",
       " (1.0, 'math'),\n",
       " (1.0, 'married'),\n",
       " (1.0, 'market'),\n",
       " (1.0, 'many'),\n",
       " (1.0, 'manager'),\n",
       " (1.0, 'man'),\n",
       " (1.0, 'mall'),\n",
       " (1.0, 'making'),\n",
       " (1.0, 'make'),\n",
       " (1.0, 'mail'),\n",
       " (1.0, 'made'),\n",
       " (1.0, 'mad'),\n",
       " (1.0, 'lunch'),\n",
       " (1.0, 'loves'),\n",
       " (1.0, 'loved'),\n",
       " (1.0, 'lots'),\n",
       " (1.0, 'lot'),\n",
       " (1.0, 'lost'),\n",
       " (1.0, 'lose'),\n",
       " (1.0, 'loose'),\n",
       " (1.0, 'looks'),\n",
       " (1.0, 'looking'),\n",
       " (1.0, 'looked'),\n",
       " (1.0, 'look'),\n",
       " (1.0, 'longer'),\n",
       " (1.0, 'long'),\n",
       " (1.0, 'lonely'),\n",
       " (1.0, 'locked'),\n",
       " (1.0, 'local'),\n",
       " (1.0, 'living'),\n",
       " (1.0, 'lives'),\n",
       " (1.0, 'lived'),\n",
       " (1.0, 'little'),\n",
       " (1.0, 'listen'),\n",
       " (1.0, 'list'),\n",
       " (1.0, 'line'),\n",
       " (1.0, 'liked'),\n",
       " (1.0, 'like'),\n",
       " (1.0, 'light'),\n",
       " (1.0, 'life'),\n",
       " (1.0, 'library'),\n",
       " (1.0, 'let'),\n",
       " (1.0, 'lessons'),\n",
       " (1.0, 'legs'),\n",
       " (1.0, 'leg'),\n",
       " (1.0, 'left'),\n",
       " (1.0, 'leaving'),\n",
       " (1.0, 'leave'),\n",
       " (1.0, 'learning'),\n",
       " (1.0, 'learned'),\n",
       " (1.0, 'learn'),\n",
       " (1.0, 'lawn'),\n",
       " (1.0, 'laughed'),\n",
       " (1.0, 'later'),\n",
       " (1.0, 'late'),\n",
       " (1.0, 'last'),\n",
       " (1.0, 'large'),\n",
       " (1.0, 'laptop'),\n",
       " (1.0, 'landed'),\n",
       " (1.0, 'lake'),\n",
       " (1.0, 'laid'),\n",
       " (1.0, 'lady'),\n",
       " (1.0, 'know'),\n",
       " (1.0, 'knew'),\n",
       " (1.0, 'knee'),\n",
       " (1.0, 'kitten'),\n",
       " (1.0, 'kite'),\n",
       " (1.0, 'kitchen'),\n",
       " (1.0, 'kids'),\n",
       " (1.0, 'kicked'),\n",
       " (1.0, 'keys'),\n",
       " (1.0, 'kept'),\n",
       " (1.0, 'keep'),\n",
       " (1.0, 'just'),\n",
       " (1.0, 'jump'),\n",
       " (1.0, 'joke'),\n",
       " (1.0, 'joined'),\n",
       " (1.0, 'join'),\n",
       " (1.0, 'job'),\n",
       " (1.0, 'jail'),\n",
       " (1.0, 'its'),\n",
       " (1.0, 'it'),\n",
       " (1.0, 'is'),\n",
       " (1.0, 'invited'),\n",
       " (1.0, 'interview'),\n",
       " (1.0, 'instead'),\n",
       " (1.0, 'inside'),\n",
       " (1.0, 'ingredients'),\n",
       " (1.0, 'in'),\n",
       " (1.0, 'impressed'),\n",
       " (1.0, 'important'),\n",
       " (1.0, 'immediately'),\n",
       " (1.0, 'if'),\n",
       " (1.0, 'idea'),\n",
       " (1.0, 'ice'),\n",
       " (1.0, 'husband'),\n",
       " (1.0, 'hurt'),\n",
       " (1.0, 'hungry'),\n",
       " (1.0, 'hundred'),\n",
       " (1.0, 'huge'),\n",
       " (1.0, 'however'),\n",
       " (1.0, 'how'),\n",
       " (1.0, 'house'),\n",
       " (1.0, 'hours'),\n",
       " (1.0, 'hour'),\n",
       " (1.0, 'hot'),\n",
       " (1.0, 'hospital'),\n",
       " (1.0, 'horses'),\n",
       " (1.0, 'horse'),\n",
       " (1.0, 'hoping'),\n",
       " (1.0, 'hoped'),\n",
       " (1.0, 'homework'),\n",
       " (1.0, 'homeless'),\n",
       " (1.0, 'home'),\n",
       " (1.0, 'holiday'),\n",
       " (1.0, 'holding'),\n",
       " (1.0, 'hit'),\n",
       " (1.0, 'history'),\n",
       " (1.0, 'his'),\n",
       " (1.0, 'himself'),\n",
       " (1.0, 'him'),\n",
       " (1.0, 'high'),\n",
       " (1.0, 'hide'),\n",
       " (1.0, 'herself'),\n",
       " (1.0, 'her'),\n",
       " (1.0, 'helped'),\n",
       " (1.0, 'help'),\n",
       " (1.0, 'heard'),\n",
       " (1.0, 'headphones'),\n",
       " (1.0, 'headed'),\n",
       " (1.0, 'he'),\n",
       " (1.0, 'having'),\n",
       " (1.0, 'have'),\n",
       " (1.0, 'hated'),\n",
       " (1.0, 'has'),\n",
       " (1.0, 'hard'),\n",
       " (1.0, 'happy'),\n",
       " (1.0, 'happily'),\n",
       " (1.0, 'hands'),\n",
       " (1.0, 'handed'),\n",
       " (1.0, 'hand'),\n",
       " (1.0, 'half'),\n",
       " (1.0, 'haircut'),\n",
       " (1.0, 'hair'),\n",
       " (1.0, 'hadn'),\n",
       " (1.0, 'had'),\n",
       " (1.0, 'gym'),\n",
       " (1.0, 'guitar'),\n",
       " (1.0, 'grow'),\n",
       " (1.0, 'grounded'),\n",
       " (1.0, 'ground'),\n",
       " (1.0, 'grocery'),\n",
       " (1.0, 'groceries'),\n",
       " (1.0, 'green'),\n",
       " (1.0, 'great'),\n",
       " (1.0, 'grateful'),\n",
       " (1.0, 'grandpa'),\n",
       " (1.0, 'grandmother'),\n",
       " (1.0, 'grandma'),\n",
       " (1.0, 'graduated'),\n",
       " (1.0, 'grades'),\n",
       " (1.0, 'grade'),\n",
       " (1.0, 'grabbed'),\n",
       " (1.0, 'got'),\n",
       " (1.0, 'good'),\n",
       " (1.0, 'gone'),\n",
       " (1.0, 'going'),\n",
       " (1.0, 'goes'),\n",
       " (1.0, 'go'),\n",
       " (1.0, 'glasses'),\n",
       " (1.0, 'glass'),\n",
       " (1.0, 'glad'),\n",
       " (1.0, 'give'),\n",
       " (1.0, 'girls'),\n",
       " (1.0, 'girlfriend'),\n",
       " (1.0, 'girl'),\n",
       " (1.0, 'gifts'),\n",
       " (1.0, 'gift'),\n",
       " (1.0, 'getting'),\n",
       " (1.0, 'gets'),\n",
       " (1.0, 'get'),\n",
       " (1.0, 'gave'),\n",
       " (1.0, 'gathered'),\n",
       " (1.0, 'gas'),\n",
       " (1.0, 'garden'),\n",
       " (1.0, 'garage'),\n",
       " (1.0, 'games'),\n",
       " (1.0, 'game'),\n",
       " (1.0, 'furniture'),\n",
       " (1.0, 'furious'),\n",
       " (1.0, 'funny'),\n",
       " (1.0, 'fun'),\n",
       " (1.0, 'full'),\n",
       " (1.0, 'frustrated'),\n",
       " (1.0, 'front'),\n",
       " (1.0, 'from'),\n",
       " (1.0, 'friends'),\n",
       " (1.0, 'friend'),\n",
       " (1.0, 'free'),\n",
       " (1.0, 'found'),\n",
       " (1.0, 'fought'),\n",
       " (1.0, 'forward'),\n",
       " (1.0, 'forgotten'),\n",
       " (1.0, 'forgot'),\n",
       " (1.0, 'forced'),\n",
       " (1.0, 'for'),\n",
       " (1.0, 'football'),\n",
       " (1.0, 'food'),\n",
       " (1.0, 'fly'),\n",
       " (1.0, 'flowers'),\n",
       " (1.0, 'flat'),\n",
       " (1.0, 'fixed'),\n",
       " (1.0, 'fix'),\n",
       " (1.0, 'five'),\n",
       " (1.0, 'fit'),\n",
       " (1.0, 'fish'),\n",
       " (1.0, 'first'),\n",
       " (1.0, 'fired'),\n",
       " (1.0, 'finished'),\n",
       " (1.0, 'finish'),\n",
       " (1.0, 'fine'),\n",
       " (1.0, 'find'),\n",
       " (1.0, 'finally'),\n",
       " (1.0, 'fighting'),\n",
       " (1.0, 'fight'),\n",
       " (1.0, 'field'),\n",
       " (1.0, 'few'),\n",
       " (1.0, 'fence'),\n",
       " (1.0, 'felt'),\n",
       " (1.0, 'fell'),\n",
       " (1.0, 'feel'),\n",
       " (1.0, 'feed'),\n",
       " (1.0, 'favorite'),\n",
       " (1.0, 'father'),\n",
       " (1.0, 'fast'),\n",
       " (1.0, 'farm'),\n",
       " (1.0, 'far'),\n",
       " (1.0, 'fan'),\n",
       " (1.0, 'famous'),\n",
       " (1.0, 'family'),\n",
       " (1.0, 'fall'),\n",
       " (1.0, 'failed'),\n",
       " (1.0, 'face'),\n",
       " (1.0, 'eyes'),\n",
       " (1.0, 'eye'),\n",
       " (1.0, 'extremely'),\n",
       " (1.0, 'extra'),\n",
       " (1.0, 'explained'),\n",
       " (1.0, 'experience'),\n",
       " (1.0, 'expensive'),\n",
       " (1.0, 'exercise'),\n",
       " (1.0, 'excited'),\n",
       " (1.0, 'exam'),\n",
       " (1.0, 'everywhere'),\n",
       " (1.0, 'everything'),\n",
       " (1.0, 'everyone'),\n",
       " (1.0, 'everyday'),\n",
       " (1.0, 'every'),\n",
       " (1.0, 'ever'),\n",
       " (1.0, 'eventually'),\n",
       " (1.0, 'event'),\n",
       " (1.0, 'even'),\n",
       " (1.0, 'essay'),\n",
       " (1.0, 'entered'),\n",
       " (1.0, 'enough'),\n",
       " (1.0, 'enjoyed'),\n",
       " (1.0, 'enjoy'),\n",
       " (1.0, 'ended'),\n",
       " (1.0, 'end'),\n",
       " (1.0, 'embarrassed'),\n",
       " (1.0, 'else'),\n",
       " (1.0, 'eggs'),\n",
       " (1.0, 'eating'),\n",
       " (1.0, 'eat'),\n",
       " (1.0, 'easy'),\n",
       " (1.0, 'early'),\n",
       " (1.0, 'each'),\n",
       " (1.0, 'during'),\n",
       " (1.0, 'due'),\n",
       " (1.0, 'drunk'),\n",
       " (1.0, 'drove'),\n",
       " (1.0, 'dropped'),\n",
       " (1.0, 'driving'),\n",
       " (1.0, 'driver'),\n",
       " (1.0, 'drive'),\n",
       " (1.0, 'drinks'),\n",
       " (1.0, 'drink'),\n",
       " (1.0, 'drew'),\n",
       " (1.0, 'dressed'),\n",
       " (1.0, 'dress'),\n",
       " (1.0, 'dreamed'),\n",
       " (1.0, 'dream'),\n",
       " (1.0, 'drank'),\n",
       " (1.0, 'down'),\n",
       " (1.0, 'door'),\n",
       " (1.0, 'done'),\n",
       " (1.0, 'dollar'),\n",
       " (1.0, 'doll'),\n",
       " (1.0, 'doing'),\n",
       " (1.0, 'dogs'),\n",
       " (1.0, 'dog'),\n",
       " (1.0, 'doesn'),\n",
       " (1.0, 'doctor'),\n",
       " (1.0, 'do'),\n",
       " (1.0, 'dishes'),\n",
       " (1.0, 'disappointed'),\n",
       " (1.0, 'dirty'),\n",
       " (1.0, 'dinner'),\n",
       " (1.0, 'diet'),\n",
       " (1.0, 'didn'),\n",
       " (1.0, 'did'),\n",
       " (1.0, 'desk'),\n",
       " (1.0, 'dentist'),\n",
       " (1.0, 'delicious'),\n",
       " (1.0, 'deer'),\n",
       " (1.0, 'decides'),\n",
       " (1.0, 'decided'),\n",
       " (1.0, 'decide'),\n",
       " (1.0, 'dead'),\n",
       " (1.0, 'days'),\n",
       " (1.0, 'day'),\n",
       " (1.0, 'dating'),\n",
       " (1.0, 'date'),\n",
       " (1.0, 'dark'),\n",
       " (1.0, 'dancing'),\n",
       " (1.0, 'dance'),\n",
       " (1.0, 'dad'),\n",
       " (1.0, 'cut'),\n",
       " (1.0, 'customer'),\n",
       " (1.0, 'crying'),\n",
       " (1.0, 'crush'),\n",
       " (1.0, 'cruise'),\n",
       " (1.0, 'cried'),\n",
       " (1.0, 'credit'),\n",
       " (1.0, 'cream'),\n",
       " (1.0, 'cousin'),\n",
       " (1.0, 'course'),\n",
       " (1.0, 'couple'),\n",
       " (1.0, 'counter'),\n",
       " (1.0, 'couldn'),\n",
       " (1.0, 'could'),\n",
       " (1.0, 'couch'),\n",
       " (1.0, 'costume'),\n",
       " (1.0, 'corner'),\n",
       " (1.0, 'cop'),\n",
       " (1.0, 'cooking'),\n",
       " (1.0, 'cooked'),\n",
       " (1.0, 'cook'),\n",
       " (1.0, 'convinced'),\n",
       " (1.0, 'continued'),\n",
       " (1.0, 'confident'),\n",
       " (1.0, 'computer'),\n",
       " (1.0, 'complained'),\n",
       " (1.0, 'competition'),\n",
       " (1.0, 'company'),\n",
       " (1.0, 'community'),\n",
       " (1.0, 'coming'),\n",
       " (1.0, 'comfortable'),\n",
       " (1.0, 'come'),\n",
       " (1.0, 'college'),\n",
       " (1.0, 'coffee'),\n",
       " (1.0, 'coat'),\n",
       " (1.0, 'coach'),\n",
       " (1.0, 'club'),\n",
       " (1.0, 'clothes'),\n",
       " (1.0, 'closet'),\n",
       " (1.0, 'closed'),\n",
       " (1.0, 'close'),\n",
       " (1.0, 'clock'),\n",
       " (1.0, 'climbed'),\n",
       " (1.0, 'climb'),\n",
       " (1.0, 'cleaned'),\n",
       " (1.0, 'clean'),\n",
       " (1.0, 'classroom'),\n",
       " (1.0, 'classmates'),\n",
       " (1.0, 'classes'),\n",
       " (1.0, 'class'),\n",
       " (1.0, 'church'),\n",
       " (1.0, 'chose'),\n",
       " (1.0, 'chores'),\n",
       " (1.0, 'choose'),\n",
       " (1.0, 'choice'),\n",
       " (1.0, 'chocolate'),\n",
       " (1.0, 'children'),\n",
       " (1.0, 'chess'),\n",
       " (1.0, 'cheese'),\n",
       " (1.0, 'check'),\n",
       " (1.0, 'cheating'),\n",
       " (1.0, 'change'),\n",
       " (1.0, 'chance'),\n",
       " (1.0, 'challenged'),\n",
       " (1.0, 'chair'),\n",
       " (1.0, 'center'),\n",
       " (1.0, 'caught'),\n",
       " (1.0, 'cats'),\n",
       " (1.0, 'catch'),\n",
       " (1.0, 'cat'),\n",
       " (1.0, 'carried'),\n",
       " (1.0, 'careful'),\n",
       " (1.0, 'care'),\n",
       " (1.0, 'card'),\n",
       " (1.0, 'car'),\n",
       " (1.0, 'candy'),\n",
       " (1.0, 'can'),\n",
       " (1.0, 'came'),\n",
       " (1.0, 'calling'),\n",
       " (1.0, 'called'),\n",
       " (1.0, 'call'),\n",
       " (1.0, 'cake'),\n",
       " (1.0, 'by'),\n",
       " (1.0, 'buying'),\n",
       " (1.0, 'buy'),\n",
       " (1.0, 'but'),\n",
       " (1.0, 'busy'),\n",
       " (1.0, 'business'),\n",
       " (1.0, 'burned'),\n",
       " (1.0, 'bully'),\n",
       " (1.0, 'built'),\n",
       " (1.0, 'build'),\n",
       " (1.0, 'brought'),\n",
       " (1.0, 'brother'),\n",
       " (1.0, 'broken'),\n",
       " (1.0, 'broke'),\n",
       " (1.0, 'bring'),\n",
       " (1.0, 'breakfast'),\n",
       " (1.0, 'break'),\n",
       " (1.0, 'bread'),\n",
       " (1.0, 'brand'),\n",
       " (1.0, 'boys'),\n",
       " (1.0, 'boyfriend'),\n",
       " (1.0, 'boy'),\n",
       " (1.0, 'box'),\n",
       " (1.0, 'bought'),\n",
       " (1.0, 'both'),\n",
       " (1.0, 'boss'),\n",
       " (1.0, 'boots'),\n",
       " (1.0, 'books'),\n",
       " (1.0, 'book'),\n",
       " (1.0, 'block'),\n",
       " (1.0, 'black'),\n",
       " (1.0, 'bit'),\n",
       " (1.0, 'birthday'),\n",
       " (1.0, 'birds'),\n",
       " (1.0, 'bird'),\n",
       " (1.0, 'bills'),\n",
       " (1.0, 'bike'),\n",
       " (1.0, 'big'),\n",
       " (1.0, 'between'),\n",
       " (1.0, 'better'),\n",
       " (1.0, 'best'),\n",
       " (1.0, 'believe'),\n",
       " (1.0, 'being'),\n",
       " (1.0, 'begged'),\n",
       " (1.0, 'began'),\n",
       " (1.0, 'before'),\n",
       " (1.0, 'beer'),\n",
       " (1.0, 'been'),\n",
       " (1.0, 'bed'),\n",
       " (1.0, 'because'),\n",
       " (1.0, 'became'),\n",
       " (1.0, 'beautiful'),\n",
       " (1.0, 'beat'),\n",
       " (1.0, 'beach'),\n",
       " (1.0, 'be'),\n",
       " (1.0, 'bathroom'),\n",
       " (1.0, 'basketball'),\n",
       " (1.0, 'baseball'),\n",
       " (1.0, 'bar'),\n",
       " (1.0, 'band'),\n",
       " (1.0, 'ball'),\n",
       " (1.0, 'baking'),\n",
       " (1.0, 'bake'),\n",
       " (1.0, 'bag'),\n",
       " (1.0, 'bad'),\n",
       " (1.0, 'back'),\n",
       " (1.0, 'away'),\n",
       " (1.0, 'aunt'),\n",
       " (1.0, 'attention'),\n",
       " (1.0, 'ate'),\n",
       " (1.0, 'at'),\n",
       " (1.0, 'assignment'),\n",
       " (1.0, 'asleep'),\n",
       " (1.0, 'asking'),\n",
       " (1.0, 'asked'),\n",
       " (1.0, 'ask'),\n",
       " (1.0, 'as'),\n",
       " (1.0, 'arrived'),\n",
       " (1.0, 'around'),\n",
       " (1.0, 'are'),\n",
       " (1.0, 'apples'),\n",
       " (1.0, 'apple'),\n",
       " (1.0, 'apologized'),\n",
       " (1.0, 'apartment'),\n",
       " (1.0, 'anyway'),\n",
       " (1.0, 'anything'),\n",
       " (1.0, 'anyone'),\n",
       " (1.0, 'anymore'),\n",
       " (1.0, 'any'),\n",
       " (1.0, 'answered'),\n",
       " (1.0, 'another'),\n",
       " (1.0, 'annoyed'),\n",
       " (1.0, 'animals'),\n",
       " (1.0, 'animal'),\n",
       " (1.0, 'and'),\n",
       " (1.0, 'an'),\n",
       " (1.0, 'amazed'),\n",
       " (1.0, 'always'),\n",
       " (1.0, 'also'),\n",
       " (1.0, 'already'),\n",
       " (1.0, 'along'),\n",
       " (1.0, 'alone'),\n",
       " (1.0, 'almost'),\n",
       " (1.0, 'all'),\n",
       " (1.0, 'alarm'),\n",
       " (1.0, 'air'),\n",
       " (1.0, 'ahead'),\n",
       " (1.0, 'agreed'),\n",
       " (1.0, 'against'),\n",
       " (1.0, 'again'),\n",
       " (1.0, 'afterwards'),\n",
       " (1.0, 'afternoon'),\n",
       " (1.0, 'after'),\n",
       " (1.0, 'afraid'),\n",
       " (1.0, 'across'),\n",
       " (1.0, 'accidentally'),\n",
       " (1.0, 'accepted'),\n",
       " (1.0, 'about'),\n",
       " (1.0, 'able'),\n",
       " (1.0, 'a'),\n",
       " (1.0, 'Years'),\n",
       " (1.0, 'With'),\n",
       " (1.0, 'While'),\n",
       " (1.0, 'When'),\n",
       " (1.0, 'We'),\n",
       " (1.0, 'Unfortunately'),\n",
       " (1.0, 'Today'),\n",
       " (1.0, 'To'),\n",
       " (1.0, 'Tina'),\n",
       " (1.0, 'This'),\n",
       " (1.0, 'They'),\n",
       " (1.0, 'There'),\n",
       " (1.0, 'Then'),\n",
       " (1.0, 'Their'),\n",
       " (1.0, 'The'),\n",
       " (1.0, 'That'),\n",
       " (1.0, 'Suddenly'),\n",
       " (1.0, 'Soon'),\n",
       " (1.0, 'So'),\n",
       " (1.0, 'Since'),\n",
       " (1.0, 'She'),\n",
       " (1.0, 'One'),\n",
       " (1.0, 'Once'),\n",
       " (1.0, 'On'),\n",
       " (1.0, 'Now'),\n",
       " (1.0, 'No'),\n",
       " (1.0, 'My'),\n",
       " (1.0, 'Luckily'),\n",
       " (1.0, 'Little'),\n",
       " (1.0, 'Later'),\n",
       " (1.0, 'Just'),\n",
       " (1.0, 'It'),\n",
       " (1.0, 'Instead'),\n",
       " (1.0, 'In'),\n",
       " (1.0, 'However'),\n",
       " (1.0, 'His'),\n",
       " (1.0, 'Her'),\n",
       " (1.0, 'He'),\n",
       " (1.0, 'Friday'),\n",
       " (1.0, 'For'),\n",
       " (1.0, 'Finally'),\n",
       " (1.0, 'Everyone'),\n",
       " (1.0, 'Every'),\n",
       " (1.0, 'During'),\n",
       " (1.0, 'By'),\n",
       " ...]"
      ]
     },
     "execution_count": 149,
     "metadata": {},
     "output_type": "execute_result"
    }
   ],
   "source": [
    "correct_pairs = []\n",
    "incorrect_pairs = []\n",
    "for token in target_voc:\n",
    "    correct_pairs.append((correct_usage[token]['correct_rate'], token))\n",
    "    incorrect_pairs.append((correct_usage[token]['incorrect_rate'], token))\n",
    "\n",
    "incorrect_pairs = sorted(incorrect_pairs, reverse=True)\n",
    "correct_pairs = sorted(correct_pairs, reverse=True)"
   ]
  },
  {
   "cell_type": "markdown",
   "metadata": {},
   "source": [
    "Outputting the 20 most correctly predicted words and 20 most incorrectly. There are far more than 20 words that had 100% accuracy, but these are the first 20 after sorting:"
   ]
  },
  {
   "cell_type": "code",
   "execution_count": null,
   "metadata": {},
   "outputs": [
    {
     "name": "stdout",
     "output_type": "stream",
     "text": [
      "(first) 20 words with greatest correct rate:\n",
      "1: zoo, rate = 1.0\n",
      "2: young, rate = 1.0\n",
      "3: yes, rate = 1.0\n",
      "4: yelled, rate = 1.0\n",
      "5: years, rate = 1.0\n",
      "6: year, rate = 1.0\n",
      "7: wrong, rate = 1.0\n",
      "8: write, rate = 1.0\n",
      "9: wouldn, rate = 1.0\n",
      "10: would, rate = 1.0\n",
      "11: worried, rate = 1.0\n",
      "12: world, rate = 1.0\n",
      "13: working, rate = 1.0\n",
      "14: worker, rate = 1.0\n",
      "15: worked, rate = 1.0\n",
      "16: work, rate = 1.0\n",
      "17: wore, rate = 1.0\n",
      "18: woods, rate = 1.0\n",
      "19: wonderful, rate = 1.0\n",
      "20: won, rate = 1.0\n"
     ]
    }
   ],
   "source": [
    "print('(first) 20 words with greatest correct rate:')\n",
    "for i in range(20):\n",
    "    print(f\"{i + 1}: \" + f\"{correct_pairs[i][1]}, rate = {correct_pairs[i][0]}\")"
   ]
  },
  {
   "cell_type": "code",
   "execution_count": null,
   "metadata": {},
   "outputs": [
    {
     "name": "stdout",
     "output_type": "stream",
     "text": [
      "(first) 20 words with greatest incorrect rate:\n",
      "1: turkey, rate = 1.0\n",
      "2: plate, rate = 1.0\n",
      "3: nearly, rate = 1.0\n",
      "4: killed, rate = 1.0\n",
      "5: highway, rate = 1.0\n",
      "6: TV, rate = 1.0\n",
      "7: Sunday, rate = 1.0\n",
      "8: Santa, rate = 1.0\n",
      "9: Jay, rate = 1.0\n",
      "10: Facebook, rate = 1.0\n",
      "11: English, rate = 1.0\n",
      "12: 4, rate = 1.0\n",
      "13: 3, rate = 1.0\n",
      "14: Christmas, rate = 0.8\n",
      "15: test, rate = 0.75\n",
      "16: I, rate = 0.6666666666666666\n",
      "17: said, rate = 0.5454545454545454\n",
      "18: cold, rate = 0.5\n",
      "19: 2, rate = 0.5\n",
      "20: into, rate = 0.4\n"
     ]
    }
   ],
   "source": [
    "print('(first) 20 words with greatest incorrect rate:')\n",
    "for i in range(20):\n",
    "    print(f\"{i + 1}: \" + f\"{incorrect_pairs[i][1]}, rate = {incorrect_pairs[i][0]}\")"
   ]
  }
 ],
 "metadata": {
  "kernelspec": {
   "display_name": "pycourse",
   "language": "python",
   "name": "python3"
  },
  "language_info": {
   "codemirror_mode": {
    "name": "ipython",
    "version": 3
   },
   "file_extension": ".py",
   "mimetype": "text/x-python",
   "name": "python",
   "nbconvert_exporter": "python",
   "pygments_lexer": "ipython3",
   "version": "3.8.18"
  }
 },
 "nbformat": 4,
 "nbformat_minor": 2
}
