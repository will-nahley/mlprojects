{
 "cells": [
  {
   "cell_type": "markdown",
   "metadata": {},
   "source": [
    "# Machine Learning: HW1 Question 2c\n",
    "## 2c: MNIST k-means and k-menas++"
   ]
  },
  {
   "cell_type": "code",
   "execution_count": 156,
   "metadata": {},
   "outputs": [],
   "source": [
    "#Importing necessary modules/libraries\n",
    "import numpy as np\n",
    "import matplotlib.pyplot as plt\n",
    "import random\n",
    "import torchvision\n",
    "import copy\n",
    "from torchvision import datasets"
   ]
  },
  {
   "cell_type": "code",
   "execution_count": 157,
   "metadata": {},
   "outputs": [],
   "source": [
    "mnist_trainset = datasets.MNIST(root='./data', train=True, download=True, transform=None)\n",
    "mnist_testset = datasets.MNIST(root='./data', train=False, download=True, transform=None)"
   ]
  },
  {
   "cell_type": "code",
   "execution_count": 158,
   "metadata": {},
   "outputs": [],
   "source": [
    "#Reshape images into a list of 6,000 vectors in R^784\n",
    "tensor_data = mnist_trainset.data.numpy()\n",
    "vector_data = []\n",
    "for i in range(len(tensor_data)):\n",
    "    a = np.reshape(tensor_data[i], (784, 1))\n",
    "    a = a/1.0\n",
    "    vector_data.append(a)\n"
   ]
  },
  {
   "cell_type": "markdown",
   "metadata": {},
   "source": [
    "k-means, k = 10 case"
   ]
  },
  {
   "cell_type": "code",
   "execution_count": 159,
   "metadata": {},
   "outputs": [],
   "source": [
    "## STEP 2: Auxiliary Functions\n",
    "def get_gamma(m, x):\n",
    "    \"\"\"\n",
    "    Returns the gamma vector based on centroid vector m and all points x\n",
    "    Each gamma takes a value 0, 1, or 2\n",
    "    \"\"\"\n",
    "    N = len(x)\n",
    "    k = len(m)\n",
    "    gamma = np.zeros((N), dtype=int) - 1\n",
    "\n",
    "    for i in range(N):\n",
    "        min_dist_k = np.Inf\n",
    "        cur_min = np.Inf\n",
    "        for j in range(k):\n",
    "            if np.linalg.norm(m[j] - x[i]) < cur_min:\n",
    "                cur_min = np.linalg.norm(m[j] - x[i])\n",
    "                min_dist_k = j    \n",
    "        gamma[i] = min_dist_k\n",
    "\n",
    "    return gamma\n",
    "\n",
    "def get_C(x, gamma, k):\n",
    "    \"\"\"\n",
    "    C is a list of lists where the outer index refers to which cluster and each list returns x in that cluster\n",
    "    \"\"\"\n",
    "    N = len(gamma)\n",
    "    C = []\n",
    "    for i in range(k):\n",
    "        cur_C = []\n",
    "        for j in range(N):\n",
    "            if gamma[j] == i:\n",
    "                cur_C.append(x[i])\n",
    "        cur_C = np.array(cur_C)\n",
    "        C.append(cur_C)\n",
    "\n",
    "    return C\n",
    "\n",
    "def get_J(x, m, C, k):\n",
    "    total = 0.0\n",
    "    N = len(x)\n",
    "    for i in range(k):\n",
    "        cur_sum = 0.0\n",
    "        cur_cluster = C[i]\n",
    "        for j in range(len(cur_cluster)):\n",
    "            diff_sq = np.linalg.norm(cur_cluster[j] - m[i])**2\n",
    "            cur_sum = cur_sum + diff_sq\n",
    "        total = total + cur_sum\n",
    "    return total\n",
    "        "
   ]
  },
  {
   "cell_type": "code",
   "execution_count": 175,
   "metadata": {},
   "outputs": [
    {
     "name": "stdout",
     "output_type": "stream",
     "text": [
      "13759.774471292623\n",
      "2529.554122045744\n",
      "1262.6366342725682\n",
      "779.4231324868362\n",
      "524.1460957749978\n",
      "367.3863159420333\n",
      "299.84131812731994\n",
      "266.2114993861653\n",
      "220.5521281854035\n",
      "201.39098027692708\n",
      "188.1969248359132\n",
      "172.89953663710205\n",
      "190.7049410884888\n",
      "208.49685348432638\n",
      "225.05039391253467\n",
      "251.17589822015375\n",
      "247.25283658471218\n",
      "238.16478442390365\n",
      "254.05635306884872\n",
      "261.76901802538544\n",
      "258.2928995241752\n",
      "269.6005694459778\n",
      "266.07982402847415\n",
      "247.05094637680017\n",
      "255.84395733046287\n",
      "265.4919620153328\n",
      "286.9547626447724\n",
      "296.54413609653506\n",
      "272.3432449139788\n",
      "238.70471533781802\n",
      "188.38443803130068\n",
      "157.0845562212782\n",
      "133.0217569182322\n",
      "103.4625540791317\n",
      "79.59079092734187\n",
      "58.4612266819953\n",
      "50.93255213905475\n",
      "35.460574870069365\n",
      "30.04196572513172\n",
      "27.500356664825965\n",
      "21.627128059784205\n",
      "20.866682170118608\n",
      "18.122658124635326\n",
      "13.709087003852437\n",
      "12.538353085229938\n",
      "11.856851385578725\n",
      "11.932286092546422\n",
      "7.701384609023104\n",
      "7.16951340108323\n",
      "4.693966263277406\n",
      "4.806595748774049\n",
      "3.7673455142490244\n",
      "4.362123742578062\n",
      "5.899079401229476\n",
      "5.393145443308052\n",
      "3.8162626758352616\n",
      "4.185760265085198\n",
      "2.101189418251343\n",
      "2.0489184272512118\n",
      "1.7134082451724881\n",
      "0.5303670201925449\n",
      "0.7148126231342807\n",
      "0.5201483613351942\n",
      "0.0\n"
     ]
    }
   ],
   "source": [
    "x = vector_data\n",
    "N = len(x)\n",
    "k = 10\n",
    "t = 1\n",
    "J = []\n",
    "#Initialize k random centroids in m\n",
    "rand_images = []\n",
    "for i in range(k):\n",
    "    image_num = random.randint(0, 59999)\n",
    "    rand_images.append(image_num)\n",
    "m = []\n",
    "\n",
    "for i in range(k):\n",
    "    m.append(x[rand_images[i]])\n",
    "m = np.array(m)\n",
    "\n",
    "#Generate gamma, C, and J\n",
    "gamma = get_gamma(m, x)\n",
    "C = get_C(x, gamma, k)\n",
    "cur_J = get_J(x, m, C, k)\n",
    "J.append(cur_J)\n",
    "\n",
    "while True:\n",
    "    temp = copy.deepcopy(m)\n",
    "    for j in range(k):\n",
    "        sum = np.zeros((784, 1))\n",
    "        for l in range(N):\n",
    "            if gamma[l] == j:\n",
    "                sum = sum + x[l]\n",
    "        m[j] = sum*(1/len(C[j]))\n",
    "\n",
    "    #Generate gamma, C, and J\n",
    "    gamma = get_gamma(m, x)\n",
    "    C = get_C(x, gamma, k)\n",
    "    cur_J = get_J(x, m, C, k)\n",
    "    J.append(cur_J)\n",
    "\n",
    "    diff = 0.0\n",
    "    for i in range(k):\n",
    "        diff = diff + np.linalg.norm(temp[i] - m[i])\n",
    "    print(diff)\n",
    "    if diff < 1e-6:\n",
    "        break\n",
    "\n",
    "\n",
    "   \n"
   ]
  },
  {
   "cell_type": "code",
   "execution_count": 190,
   "metadata": {},
   "outputs": [
    {
     "name": "stderr",
     "output_type": "stream",
     "text": [
      "/tmp/ipykernel_517168/3626632889.py:8: UserWarning: Matplotlib is currently using module://matplotlib_inline.backend_inline, which is a non-GUI backend, so cannot show the figure.\n",
      "  fig.show()\n"
     ]
    },
    {
     "data": {
      "image/png": "[encoded data removed]",
      "text/plain": [
       "<Figure size 640x480 with 1 Axes>"
      ]
     },
     "metadata": {},
     "output_type": "display_data"
    }
   ],
   "source": [
    "num_iter = len(J)\n",
    "T = np.arange(num_iter) + 1\n",
    "fig, ax = plt.subplots()\n",
    "ax.plot(T, J)\n",
    "ax.set_ylabel(\"$J_{avg^2}$ Distortion\")\n",
    "ax.set_xlabel(\"Iterations\")\n",
    "ax.set_title(\"$J_{avg^2}$ Distortion vs. Iterations: k-means, k=10\")\n",
    "fig.show()\n",
    "\n",
    "\n"
   ]
  }
 ],
 "metadata": {
  "kernelspec": {
   "display_name": "pycourse",
   "language": "python",
   "name": "python3"
  },
  "language_info": {
   "codemirror_mode": {
    "name": "ipython",
    "version": 3
   },
   "file_extension": ".py",
   "mimetype": "text/x-python",
   "name": "python",
   "nbconvert_exporter": "python",
   "pygments_lexer": "ipython3",
   "version": "3.8.18"
  }
 },
 "nbformat": 4,
 "nbformat_minor": 2
}
