{
 "cells": [
  {
   "cell_type": "markdown",
   "metadata": {},
   "source": [
    "# TEST"
   ]
  },
  {
   "cell_type": "code",
   "execution_count": 1,
   "metadata": {},
   "outputs": [
    {
     "name": "stderr",
     "output_type": "stream",
     "text": [
      "/home/will/miniconda3/envs/pycourse/lib/python3.8/site-packages/torchvision/io/image.py:13: UserWarning: Failed to load image Python extension: '/home/will/miniconda3/envs/pycourse/lib/python3.8/site-packages/torchvision/image.so: undefined symbol: _ZN3c1017RegisterOperatorsD1Ev'If you don't plan on using image functionality from `torchvision.io`, you can ignore this warning. Otherwise, there might be something wrong with your environment. Did you have `libjpeg` or `libpng` installed before building `torchvision` from source?\n",
      "  warn(\n"
     ]
    }
   ],
   "source": [
    "#imports\n",
    "import numpy as np\n",
    "import matplotlib.pyplot as plt\n",
    "import random\n",
    "import torchvision\n",
    "import copy\n",
    "from torchvision import datasets"
   ]
  },
  {
   "cell_type": "markdown",
   "metadata": {},
   "source": [
    "## k-means: MNIST, k = 10"
   ]
  },
  {
   "cell_type": "markdown",
   "metadata": {},
   "source": [
    "### Step 1: Preprocessing"
   ]
  },
  {
   "cell_type": "code",
   "execution_count": 2,
   "metadata": {},
   "outputs": [],
   "source": [
    "mnist_trainset = datasets.MNIST(root='./data', train=True, download=False, transform=None)\n",
    "mnist_testset = datasets.MNIST(root='./data', train=False, download=False, transform=None)"
   ]
  },
  {
   "cell_type": "code",
   "execution_count": 3,
   "metadata": {},
   "outputs": [],
   "source": [
    "N = 60000\n",
    "tensor_data = mnist_trainset.data.numpy()\n",
    "x = np.ndarray((N, 784))\n",
    "for i in range(N):\n",
    "    x[i] = np.ndarray.flatten(tensor_data[i])"
   ]
  },
  {
   "cell_type": "markdown",
   "metadata": {},
   "source": [
    "### Step 2: Initialization"
   ]
  },
  {
   "cell_type": "code",
   "execution_count": 4,
   "metadata": {},
   "outputs": [],
   "source": [
    "k = 10\n",
    "\n",
    "#initialize gamma and m vectors\n",
    "ms = np.ndarray((k, 784))\n",
    "for i in range(k):\n",
    "    index = random.randint(0, N - 1)\n",
    "    ms[i] = x[index]\n",
    "\n",
    "gammas = np.zeros(N, dtype=int)\n",
    "for i in range(N):\n",
    "        min_index = -1\n",
    "        min_dist = np.Inf\n",
    "        for j in range(k):\n",
    "            dist_norm = np.linalg.norm(x[i] - ms[j])\n",
    "            if dist_norm < min_dist:\n",
    "                min_dist = dist_norm\n",
    "                gammas[i] = j\n",
    "\n"
   ]
  },
  {
   "cell_type": "markdown",
   "metadata": {},
   "source": [
    "### Step 3: The algorithm"
   ]
  },
  {
   "cell_type": "code",
   "execution_count": 5,
   "metadata": {},
   "outputs": [],
   "source": [
    "Js = []\n",
    "while True:\n",
    "\n",
    "    #Calculate Clusters C and distortion J\n",
    "    C = []\n",
    "    for i in range(k):\n",
    "        C_i = []\n",
    "        C.append(C_i)\n",
    "\n",
    "    for i in range(N):\n",
    "        g = gammas[i]\n",
    "        C[g].append(x[i])\n",
    "\n",
    "    for j in range(k):\n",
    "        len_Cj = len(C[j])\n",
    "        ms[j] = (1/len_Cj)\n",
    "        sum = 0\n",
    "        for i in range(len_Cj):\n",
    "            sum = sum + C[j][i]\n",
    "        ms[j] = ms[j]*sum\n",
    "\n",
    "        #update gammas then m\n",
    "    for i in range(N):\n",
    "        min_index = -1\n",
    "        min_dist = np.Inf\n",
    "        for j in range(k):\n",
    "            dist_norm = np.linalg.norm(x[i] - ms[j])\n",
    "            if dist_norm < min_dist:\n",
    "                min_dist = dist_norm\n",
    "                gammas[i] = j\n",
    "        \n",
    "    J = 0.0\n",
    "    for i in range(N):\n",
    "        g = gammas[i]\n",
    "        d = np.linalg.norm(x[i] - ms[g])**2\n",
    "        J = J + d\n",
    "    \n",
    "    if len(Js) > 0 and np.linalg.norm(J - Js[-1]) < 1:\n",
    "        Js.append(J)\n",
    "        break\n",
    "    Js.append(J)\n",
    "    \n",
    "\n",
    "\n",
    "\n",
    "\n"
   ]
  },
  {
   "cell_type": "markdown",
   "metadata": {},
   "source": [
    "### Step 4: Plot decreasing distortion"
   ]
  },
  {
   "cell_type": "code",
   "execution_count": 13,
   "metadata": {},
   "outputs": [
    {
     "name": "stdout",
     "output_type": "stream",
     "text": [
      "80\n"
     ]
    },
    {
     "data": {
      "image/png": "[encoded data removed]",
      "text/plain": [
       "<Figure size 640x480 with 1 Axes>"
      ]
     },
     "metadata": {},
     "output_type": "display_data"
    }
   ],
   "source": [
    "num_iter = len(Js)\n",
    "Ts = np.arange(num_iter) + 1\n",
    "fig, ax = plt.subplots()\n",
    "ax.plot(Ts, Js)\n",
    "ax.set_title(\"$J_{avg^2}$ Distortion vs. Iterations: MNIST Data Set, k-means, k = 10\")\n",
    "ax.set_xlabel(\"Iteration\")\n",
    "ax.set_ylabel(\"$J_{avg^2}$ Distortion\")\n",
    "print(Ts[-1])"
   ]
  },
  {
   "cell_type": "markdown",
   "metadata": {},
   "source": [
    "## k-means: MNIST, k = 16"
   ]
  },
  {
   "cell_type": "markdown",
   "metadata": {},
   "source": [
    "### Step 1: Initialization"
   ]
  },
  {
   "cell_type": "code",
   "execution_count": 7,
   "metadata": {},
   "outputs": [],
   "source": [
    "k = 16\n",
    "\n",
    "#initialize gamma and m vectors\n",
    "ms = np.ndarray((k, 784))\n",
    "for i in range(k):\n",
    "    index = random.randint(0, N - 1)\n",
    "    ms[i] = x[index]\n",
    "\n",
    "gammas = np.zeros(N, dtype=int)\n",
    "for i in range(N):\n",
    "        min_index = -1\n",
    "        min_dist = np.Inf\n",
    "        for j in range(k):\n",
    "            dist_norm = np.linalg.norm(x[i] - ms[j])\n",
    "            if dist_norm < min_dist:\n",
    "                min_dist = dist_norm\n",
    "                gammas[i] = j"
   ]
  },
  {
   "cell_type": "markdown",
   "metadata": {},
   "source": [
    "### Step 2: The algorithm"
   ]
  },
  {
   "cell_type": "code",
   "execution_count": 8,
   "metadata": {},
   "outputs": [],
   "source": [
    "Js = []\n",
    "while True:\n",
    "\n",
    "    #Calculate Clusters C and distortion J\n",
    "    C = []\n",
    "    for i in range(k):\n",
    "        C_i = []\n",
    "        C.append(C_i)\n",
    "\n",
    "    for i in range(N):\n",
    "        g = gammas[i]\n",
    "        C[g].append(x[i])\n",
    "\n",
    "    for j in range(k):\n",
    "        len_Cj = len(C[j])\n",
    "        ms[j] = (1/len_Cj)\n",
    "        sum = 0\n",
    "        for i in range(len_Cj):\n",
    "            sum = sum + C[j][i]\n",
    "        ms[j] = ms[j]*sum\n",
    "\n",
    "        #update gammas then m\n",
    "    for i in range(N):\n",
    "        min_index = -1\n",
    "        min_dist = np.Inf\n",
    "        for j in range(k):\n",
    "            dist_norm = np.linalg.norm(x[i] - ms[j])\n",
    "            if dist_norm < min_dist:\n",
    "                min_dist = dist_norm\n",
    "                gammas[i] = j\n",
    "        \n",
    "    J = 0.0\n",
    "    for i in range(N):\n",
    "        g = gammas[i]\n",
    "        d = np.linalg.norm(x[i] - ms[g])**2\n",
    "        J = J + d\n",
    "    \n",
    "    if len(Js) > 0 and np.linalg.norm(J - Js[-1]) < 1:\n",
    "        Js.append(J)\n",
    "        break\n",
    "    Js.append(J)"
   ]
  },
  {
   "cell_type": "code",
   "execution_count": 15,
   "metadata": {},
   "outputs": [
    {
     "name": "stdout",
     "output_type": "stream",
     "text": [
      "80\n"
     ]
    },
    {
     "data": {
      "image/png": "[encoded data removed]",
      "text/plain": [
       "<Figure size 640x480 with 1 Axes>"
      ]
     },
     "metadata": {},
     "output_type": "display_data"
    }
   ],
   "source": [
    "num_iter = len(Js)\n",
    "Ts = np.arange(num_iter) + 1\n",
    "fig, ax = plt.subplots()\n",
    "ax.plot(Ts, Js)\n",
    "ax.set_title(\"$J_{avg^2}$ Distortion vs. Iterations: MNIST Data Set, k-means, k = 16\")\n",
    "ax.set_xlabel(\"Iteration\")\n",
    "ax.set_ylabel(\"$J_{avg^2}$ Distortion\")\n",
    "print(Ts[-1])"
   ]
  },
  {
   "cell_type": "markdown",
   "metadata": {},
   "source": [
    "## k-means++: MNIST, k = 10"
   ]
  },
  {
   "cell_type": "markdown",
   "metadata": {},
   "source": [
    "### Step 1: Create functions to calculate D and p"
   ]
  },
  {
   "cell_type": "code",
   "execution_count": 10,
   "metadata": {},
   "outputs": [],
   "source": [
    "def D(imin1, xj, ms):\n",
    "    minimum = np.Inf\n",
    "    for p in range(imin1 + 1):\n",
    "        dist = np.linalg.norm(xj - ms[imin1])\n",
    "        if dist < minimum:\n",
    "            minimum = dist\n",
    "    return minimum\n",
    "\n",
    "\n",
    "\n",
    "\n",
    "def p(i, xj, ms, N):\n",
    "    num = D(i - 1, xj, ms)**2\n",
    "    denom = 0.0\n",
    "    for l in range(N):\n",
    "        xl = x[l]\n",
    "        cur_D = D(i - 1, xl, ms)**2\n",
    "        denom = denom + cur_D\n",
    "    return num / denom"
   ]
  },
  {
   "cell_type": "markdown",
   "metadata": {},
   "source": [
    "### Step 2: Initalization"
   ]
  },
  {
   "cell_type": "code",
   "execution_count": 11,
   "metadata": {},
   "outputs": [],
   "source": [
    "k = 10\n",
    "N = 60000\n",
    "#initialize gamma and m vectors\n",
    "ms = np.ndarray((k, 784))\n",
    "ms[0] = x[np.random.randint(0, N - 1)]\n",
    "for i in range(1, k):\n",
    "        p_mi = np.zeros(N)\n",
    "        for j in range(N):\n",
    "            xj = x[j]\n",
    "            prob = p(i, xj, ms, N)\n",
    "            p_mi[j] = prob\n",
    "            # TODO: FIXME\n",
    "            break\n",
    "        \n",
    "        #m_index = np.random.choice(range(N), p=p_mi) \n",
    "        #ms[i] = x[m_index]\n",
    "    \n",
    "        \n"
   ]
  }
 ],
 "metadata": {
  "kernelspec": {
   "display_name": "pycourse",
   "language": "python",
   "name": "python3"
  },
  "language_info": {
   "codemirror_mode": {
    "name": "ipython",
    "version": 3
   },
   "file_extension": ".py",
   "mimetype": "text/x-python",
   "name": "python",
   "nbconvert_exporter": "python",
   "pygments_lexer": "ipython3",
   "version": "3.8.18"
  }
 },
 "nbformat": 4,
 "nbformat_minor": 2
}
