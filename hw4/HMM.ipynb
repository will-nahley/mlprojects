{
 "cells": [
  {
   "cell_type": "markdown",
   "metadata": {},
   "source": [
    "## Machine Learning: Loaded or Fair Die? Hidden Markov Models / Baum-Welch Algorithm / Backward-Forward Algorithm"
   ]
  },
  {
   "cell_type": "code",
   "execution_count": 110,
   "metadata": {},
   "outputs": [],
   "source": [
    "#imports\n",
    "import numpy as np\n",
    "import matplotlib.pyplot as plt\n",
    "import scipy.linalg as sla\n",
    "import random"
   ]
  },
  {
   "cell_type": "markdown",
   "metadata": {},
   "source": [
    "To get an idea of our data, I'll plot a bar chart showing the frequency of each roll:"
   ]
  },
  {
   "cell_type": "code",
   "execution_count": 111,
   "metadata": {},
   "outputs": [
    {
     "data": {
      "text/plain": [
       "Text(0.5, 1.0, 'Frequency of Rolls')"
      ]
     },
     "execution_count": 111,
     "metadata": {},
     "output_type": "execute_result"
    },
    {
     "data": {
      "image/png": "[encoded data removed]",
      "text/plain": [
       "<Figure size 640x480 with 1 Axes>"
      ]
     },
     "metadata": {},
     "output_type": "display_data"
    }
   ],
   "source": [
    "sides = 6\n",
    "num_rolls = 3000\n",
    "rolls_freq = np.zeros(sides, dtype=int)\n",
    "rolls = np.zeros(num_rolls, dtype=int)\n",
    "counter = 0\n",
    "with open(\"rolls.txt\") as file:\n",
    "    for line in file:\n",
    "        roll = int(line)\n",
    "        rolls[counter] = roll\n",
    "        rolls_freq[roll] += 1\n",
    "        counter += 1\n",
    "rolls = np.array(rolls)\n",
    "\n",
    "\n",
    "faces = np.arange(sides)\n",
    "fig, ax = plt.subplots()\n",
    "ax.bar(faces, rolls_freq)\n",
    "ax.set_xlabel(\"Roll Result\")\n",
    "ax.set_ylabel(\"Frequency\")\n",
    "ax.set_title(\"Frequency of Rolls\")"
   ]
  },
  {
   "cell_type": "markdown",
   "metadata": {},
   "source": [
    "As expected, there are disproprortionally more rolls of a 5, which suggests that one of the dice is loaded.\n",
    "\n",
    "We would like to learn the parameters of the model $\\Theta =$ ($\\pi$, $\\theta$, and $\\omega$) that maximize the log-likelihood $\\ell (\\pi, \\theta, \\omega | x_{0:T}, y_{0:T})$ through expectation maximization"
   ]
  },
  {
   "cell_type": "code",
   "execution_count": 120,
   "metadata": {},
   "outputs": [
    {
     "name": "stdout",
     "output_type": "stream",
     "text": [
      "[[0.7 0.6 0.5 0.5 0.4 0.3]\n",
      " [0.3 0.4 0.5 0.5 0.6 0.7]]\n"
     ]
    }
   ],
   "source": [
    "hidden_dice = np.zeros(num_rolls, dtype=int)\n",
    "A = np.ndarray((2, 2), dtype=float)\n",
    "#Let's call the 1-index the loaded die, and the 0 index the normal die\n",
    "A[0][0] = 0.9\n",
    "A[0][1] = 0.1\n",
    "A[1][0] = 0.8\n",
    "A[1][1] = 0.2\n",
    "\n",
    "#Given we're we've rolled j, whats the probability the dice is i?\n",
    "B = np.ndarray((2, 6), dtype=float)\n",
    "B[0][0] = 0.7\n",
    "B[0][1] = 0.6\n",
    "B[0][2] = 0.5\n",
    "B[0][3] = 0.5\n",
    "B[0][4] = 0.4\n",
    "B[0][5] = 0.3\n",
    "\n",
    "B[1][0] = 0.3\n",
    "B[1][1] = 0.4\n",
    "B[1][2] = 0.5\n",
    "B[1][3] = 0.5\n",
    "B[1][4] = 0.6\n",
    "B[1][5] = 0.7\n",
    "\n",
    "#Guess for initial die\n",
    "pi_0 = 0.75\n",
    "pi_1 = 0.25\n",
    "\n",
    "print(B)"
   ]
  },
  {
   "cell_type": "code",
   "execution_count": null,
   "metadata": {},
   "outputs": [],
   "source": []
  }
 ],
 "metadata": {
  "kernelspec": {
   "display_name": "pycourse",
   "language": "python",
   "name": "python3"
  },
  "language_info": {
   "codemirror_mode": {
    "name": "ipython",
    "version": 3
   },
   "file_extension": ".py",
   "mimetype": "text/x-python",
   "name": "python",
   "nbconvert_exporter": "python",
   "pygments_lexer": "ipython3",
   "version": "3.8.18"
  }
 },
 "nbformat": 4,
 "nbformat_minor": 2
}
